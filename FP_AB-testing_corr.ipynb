{
 "cells": [
  {
   "cell_type": "markdown",
   "metadata": {},
   "source": [
    "# Финальный проект\n",
    "## Задание 1. A/B–тестирование\n",
    "### 1.1 Условие\n",
    "\n",
    "Одной из основных задач аналитика в нашей команде является корректное проведение экспериментов. Для этого мы применяем метод A/B–тестирования. В ходе тестирования одной гипотезы целевой группе была предложена новая механика оплаты услуг на сайте, у контрольной группы оставалась базовая механика. В качестве задания вам необходимо проанализировать итоги эксперимента и сделать вывод, стоит ли запускать новую механику оплаты на всех пользователей."
   ]
  },
  {
   "cell_type": "markdown",
   "metadata": {},
   "source": [
    "### 1.2 Входные данные\n",
    "\n",
    "В качестве входных данных вы имеете 4 csv-файла:\n",
    "\n",
    "1. **groups.csv** – файл с информацией о принадлежности пользователя к контрольной или экспериментальной группе (А – контроль, B – целевая группа) \n",
    "2. **groups_add.csv** – дополнительный файл с пользователями, который вам прислали спустя 2 дня после передачи данных\n",
    "3. **active_studs.csv** – файл с информацией о пользователях, которые зашли на платформу в дни проведения эксперимента. \n",
    "4. **checks.csv** – файл с информацией об оплатах пользователей в дни проведения эксперимента. \n",
    "\n",
    "Далее прочтем и выведем входные файлы"
   ]
  },
  {
   "cell_type": "code",
   "execution_count": 349,
   "metadata": {},
   "outputs": [],
   "source": [
    "import pandas as pd\n",
    "import numpy as np\n",
    "import scipy.stats as ss\n",
    "from tqdm.auto import tqdm\n",
    "import pandahouse as ph\n",
    "import seaborn as sns\n",
    "import matplotlib.pyplot as plt\n",
    "\n",
    "from urllib.parse import urlencode\n",
    "import requests\n",
    "\n",
    "plt.style.use('ggplot')"
   ]
  },
  {
   "cell_type": "code",
   "execution_count": 350,
   "metadata": {},
   "outputs": [],
   "source": [
    "#Используем API для получения доступа к данным\n",
    "base_url = 'https://cloud-api.yandex.net/v1/disk/public/resources/download?'\n",
    "groups_url = 'https://disk.yandex.ru/d/UhyYx41rTt3clQ'\n",
    "groups_add_url = 'https://disk.yandex.ru/d/5Kxrz02m3IBUwQ'\n",
    "checks_url = 'https://disk.yandex.ru/d/Tbs44Bm6H_FwFQ'\n",
    "active_studs_url = 'https://disk.yandex.ru/d/pH1q-VqcxXjsVA'\n",
    "\n",
    "final_url_groups = base_url + urlencode(dict(public_key = groups_url))\n",
    "final_url_groups_add = base_url + urlencode(dict(public_key = groups_add_url))\n",
    "final_url_active_studs = base_url + urlencode(dict(public_key = checks_url))\n",
    "final_url_checks = base_url + urlencode(dict(public_key = active_studs_url))\n",
    "\n",
    "response_1 = requests.get(final_url_groups)\n",
    "download_url_1 = response_1.json()['href']\n",
    "\n",
    "response_2 = requests.get(final_url_groups_add)\n",
    "download_url_2 = response_2.json()['href']\n",
    "\n",
    "response_3 = requests.get(final_url_checks)\n",
    "download_url_3 = response_3.json()['href']\n",
    "\n",
    "response_4 = requests.get(final_url_active_studs)\n",
    "download_url_4 = response_4.json()['href']"
   ]
  },
  {
   "cell_type": "code",
   "execution_count": 351,
   "metadata": {},
   "outputs": [],
   "source": [
    "groups = pd.read_csv(download_url_1, sep = ';')\n",
    "groups_add = pd.read_csv(download_url_2, sep = ',')\n",
    "checks = pd.read_csv(download_url_3, sep = ';')\n",
    "active_studs = pd.read_csv(download_url_4)"
   ]
  },
  {
   "cell_type": "code",
   "execution_count": 352,
   "metadata": {},
   "outputs": [
    {
     "data": {
      "text/html": [
       "<div>\n",
       "<style scoped>\n",
       "    .dataframe tbody tr th:only-of-type {\n",
       "        vertical-align: middle;\n",
       "    }\n",
       "\n",
       "    .dataframe tbody tr th {\n",
       "        vertical-align: top;\n",
       "    }\n",
       "\n",
       "    .dataframe thead th {\n",
       "        text-align: right;\n",
       "    }\n",
       "</style>\n",
       "<table border=\"1\" class=\"dataframe\">\n",
       "  <thead>\n",
       "    <tr style=\"text-align: right;\">\n",
       "      <th></th>\n",
       "      <th>id</th>\n",
       "      <th>grp</th>\n",
       "    </tr>\n",
       "  </thead>\n",
       "  <tbody>\n",
       "    <tr>\n",
       "      <th>0</th>\n",
       "      <td>1489</td>\n",
       "      <td>B</td>\n",
       "    </tr>\n",
       "    <tr>\n",
       "      <th>1</th>\n",
       "      <td>1627</td>\n",
       "      <td>A</td>\n",
       "    </tr>\n",
       "    <tr>\n",
       "      <th>2</th>\n",
       "      <td>1768</td>\n",
       "      <td>B</td>\n",
       "    </tr>\n",
       "    <tr>\n",
       "      <th>3</th>\n",
       "      <td>1783</td>\n",
       "      <td>B</td>\n",
       "    </tr>\n",
       "    <tr>\n",
       "      <th>4</th>\n",
       "      <td>1794</td>\n",
       "      <td>A</td>\n",
       "    </tr>\n",
       "  </tbody>\n",
       "</table>\n",
       "</div>"
      ],
      "text/plain": [
       "     id grp\n",
       "0  1489   B\n",
       "1  1627   A\n",
       "2  1768   B\n",
       "3  1783   B\n",
       "4  1794   A"
      ]
     },
     "metadata": {},
     "output_type": "display_data"
    },
    {
     "data": {
      "text/html": [
       "<div>\n",
       "<style scoped>\n",
       "    .dataframe tbody tr th:only-of-type {\n",
       "        vertical-align: middle;\n",
       "    }\n",
       "\n",
       "    .dataframe tbody tr th {\n",
       "        vertical-align: top;\n",
       "    }\n",
       "\n",
       "    .dataframe thead th {\n",
       "        text-align: right;\n",
       "    }\n",
       "</style>\n",
       "<table border=\"1\" class=\"dataframe\">\n",
       "  <thead>\n",
       "    <tr style=\"text-align: right;\">\n",
       "      <th></th>\n",
       "      <th>id</th>\n",
       "      <th>grp</th>\n",
       "    </tr>\n",
       "  </thead>\n",
       "  <tbody>\n",
       "    <tr>\n",
       "      <th>0</th>\n",
       "      <td>5694584</td>\n",
       "      <td>B</td>\n",
       "    </tr>\n",
       "    <tr>\n",
       "      <th>1</th>\n",
       "      <td>5694830</td>\n",
       "      <td>B</td>\n",
       "    </tr>\n",
       "    <tr>\n",
       "      <th>2</th>\n",
       "      <td>5695057</td>\n",
       "      <td>B</td>\n",
       "    </tr>\n",
       "    <tr>\n",
       "      <th>3</th>\n",
       "      <td>5698872</td>\n",
       "      <td>B</td>\n",
       "    </tr>\n",
       "    <tr>\n",
       "      <th>4</th>\n",
       "      <td>5699067</td>\n",
       "      <td>B</td>\n",
       "    </tr>\n",
       "  </tbody>\n",
       "</table>\n",
       "</div>"
      ],
      "text/plain": [
       "        id grp\n",
       "0  5694584   B\n",
       "1  5694830   B\n",
       "2  5695057   B\n",
       "3  5698872   B\n",
       "4  5699067   B"
      ]
     },
     "metadata": {},
     "output_type": "display_data"
    },
    {
     "data": {
      "text/html": [
       "<div>\n",
       "<style scoped>\n",
       "    .dataframe tbody tr th:only-of-type {\n",
       "        vertical-align: middle;\n",
       "    }\n",
       "\n",
       "    .dataframe tbody tr th {\n",
       "        vertical-align: top;\n",
       "    }\n",
       "\n",
       "    .dataframe thead th {\n",
       "        text-align: right;\n",
       "    }\n",
       "</style>\n",
       "<table border=\"1\" class=\"dataframe\">\n",
       "  <thead>\n",
       "    <tr style=\"text-align: right;\">\n",
       "      <th></th>\n",
       "      <th>student_id</th>\n",
       "      <th>rev</th>\n",
       "    </tr>\n",
       "  </thead>\n",
       "  <tbody>\n",
       "    <tr>\n",
       "      <th>0</th>\n",
       "      <td>1627</td>\n",
       "      <td>990.0</td>\n",
       "    </tr>\n",
       "    <tr>\n",
       "      <th>1</th>\n",
       "      <td>3185</td>\n",
       "      <td>690.0</td>\n",
       "    </tr>\n",
       "    <tr>\n",
       "      <th>2</th>\n",
       "      <td>25973</td>\n",
       "      <td>690.0</td>\n",
       "    </tr>\n",
       "    <tr>\n",
       "      <th>3</th>\n",
       "      <td>26280</td>\n",
       "      <td>690.0</td>\n",
       "    </tr>\n",
       "    <tr>\n",
       "      <th>4</th>\n",
       "      <td>100300</td>\n",
       "      <td>990.0</td>\n",
       "    </tr>\n",
       "  </tbody>\n",
       "</table>\n",
       "</div>"
      ],
      "text/plain": [
       "   student_id    rev\n",
       "0        1627  990.0\n",
       "1        3185  690.0\n",
       "2       25973  690.0\n",
       "3       26280  690.0\n",
       "4      100300  990.0"
      ]
     },
     "metadata": {},
     "output_type": "display_data"
    },
    {
     "data": {
      "text/html": [
       "<div>\n",
       "<style scoped>\n",
       "    .dataframe tbody tr th:only-of-type {\n",
       "        vertical-align: middle;\n",
       "    }\n",
       "\n",
       "    .dataframe tbody tr th {\n",
       "        vertical-align: top;\n",
       "    }\n",
       "\n",
       "    .dataframe thead th {\n",
       "        text-align: right;\n",
       "    }\n",
       "</style>\n",
       "<table border=\"1\" class=\"dataframe\">\n",
       "  <thead>\n",
       "    <tr style=\"text-align: right;\">\n",
       "      <th></th>\n",
       "      <th>student_id</th>\n",
       "    </tr>\n",
       "  </thead>\n",
       "  <tbody>\n",
       "    <tr>\n",
       "      <th>0</th>\n",
       "      <td>581585</td>\n",
       "    </tr>\n",
       "    <tr>\n",
       "      <th>1</th>\n",
       "      <td>5723133</td>\n",
       "    </tr>\n",
       "    <tr>\n",
       "      <th>2</th>\n",
       "      <td>3276743</td>\n",
       "    </tr>\n",
       "    <tr>\n",
       "      <th>3</th>\n",
       "      <td>4238589</td>\n",
       "    </tr>\n",
       "    <tr>\n",
       "      <th>4</th>\n",
       "      <td>4475369</td>\n",
       "    </tr>\n",
       "  </tbody>\n",
       "</table>\n",
       "</div>"
      ],
      "text/plain": [
       "   student_id\n",
       "0      581585\n",
       "1     5723133\n",
       "2     3276743\n",
       "3     4238589\n",
       "4     4475369"
      ]
     },
     "metadata": {},
     "output_type": "display_data"
    }
   ],
   "source": [
    "data = [groups, groups_add, checks, active_studs]\n",
    "\n",
    "for i in data:\n",
    "    display(i.head())"
   ]
  },
  {
   "cell_type": "markdown",
   "metadata": {},
   "source": [
    "### Предварительный анализ датасетов\n",
    "После того, как мы проверили, что данные корректно считываются - проверим размер и тип данных каждого из датасетов. Также проверим данные на наличие пропусков и дубликатов."
   ]
  },
  {
   "cell_type": "code",
   "execution_count": 353,
   "metadata": {},
   "outputs": [
    {
     "name": "stdout",
     "output_type": "stream",
     "text": [
      "Размер датасета: (74484, 2) \n",
      "\n",
      "Типы данных: \n",
      "id      int64\n",
      "grp    object\n",
      "dtype: object\n"
     ]
    }
   ],
   "source": [
    "#Проект_2_groups.csv\n",
    "print(f'Размер датасета: {groups.shape} \\n')\n",
    "print(f'Типы данных: \\n{groups.dtypes}')"
   ]
  },
  {
   "cell_type": "code",
   "execution_count": 354,
   "metadata": {},
   "outputs": [
    {
     "data": {
      "text/plain": [
       "id     0\n",
       "grp    0\n",
       "dtype: int64"
      ]
     },
     "execution_count": 354,
     "metadata": {},
     "output_type": "execute_result"
    }
   ],
   "source": [
    "groups.isna().sum()"
   ]
  },
  {
   "cell_type": "code",
   "execution_count": 355,
   "metadata": {},
   "outputs": [
    {
     "data": {
      "text/plain": [
       "0"
      ]
     },
     "execution_count": 355,
     "metadata": {},
     "output_type": "execute_result"
    }
   ],
   "source": [
    "groups.duplicated().sum()"
   ]
  },
  {
   "cell_type": "code",
   "execution_count": 356,
   "metadata": {},
   "outputs": [
    {
     "name": "stdout",
     "output_type": "stream",
     "text": [
      "Размер датасета: (92, 2) \n",
      "\n",
      "Типы данных: \n",
      "id      int64\n",
      "grp    object\n",
      "dtype: object\n"
     ]
    }
   ],
   "source": [
    "#Проект_2_group_add.csv\n",
    "print(f'Размер датасета: {groups_add.shape} \\n')\n",
    "print(f'Типы данных: \\n{groups_add.dtypes}')"
   ]
  },
  {
   "cell_type": "code",
   "execution_count": 357,
   "metadata": {},
   "outputs": [
    {
     "data": {
      "text/plain": [
       "id     0\n",
       "grp    0\n",
       "dtype: int64"
      ]
     },
     "execution_count": 357,
     "metadata": {},
     "output_type": "execute_result"
    }
   ],
   "source": [
    "groups_add.isna().sum()"
   ]
  },
  {
   "cell_type": "code",
   "execution_count": 358,
   "metadata": {},
   "outputs": [
    {
     "data": {
      "text/plain": [
       "0"
      ]
     },
     "execution_count": 358,
     "metadata": {},
     "output_type": "execute_result"
    }
   ],
   "source": [
    "groups_add.duplicated().sum()"
   ]
  },
  {
   "cell_type": "code",
   "execution_count": 359,
   "metadata": {},
   "outputs": [
    {
     "name": "stdout",
     "output_type": "stream",
     "text": [
      "Размер датасета: (541, 2) \n",
      "\n",
      "Типы данных: \n",
      "student_id      int64\n",
      "rev           float64\n",
      "dtype: object\n"
     ]
    }
   ],
   "source": [
    "#Проект_2_checks.csv\n",
    "print(f'Размер датасета: {checks.shape} \\n')\n",
    "print(f'Типы данных: \\n{checks.dtypes}')"
   ]
  },
  {
   "cell_type": "code",
   "execution_count": 360,
   "metadata": {},
   "outputs": [
    {
     "data": {
      "text/plain": [
       "student_id    0\n",
       "rev           0\n",
       "dtype: int64"
      ]
     },
     "execution_count": 360,
     "metadata": {},
     "output_type": "execute_result"
    }
   ],
   "source": [
    "checks.isna().sum()"
   ]
  },
  {
   "cell_type": "code",
   "execution_count": 361,
   "metadata": {},
   "outputs": [
    {
     "data": {
      "text/plain": [
       "0"
      ]
     },
     "execution_count": 361,
     "metadata": {},
     "output_type": "execute_result"
    }
   ],
   "source": [
    "checks.duplicated().sum()"
   ]
  },
  {
   "cell_type": "code",
   "execution_count": 362,
   "metadata": {},
   "outputs": [
    {
     "name": "stdout",
     "output_type": "stream",
     "text": [
      "Размер датасета: (8341, 1) \n",
      "\n",
      "Типы данных: \n",
      "student_id    int64\n",
      "dtype: object\n"
     ]
    }
   ],
   "source": [
    "#Проект_2_active_studs.csv\n",
    "print(f'Размер датасета: {active_studs.shape} \\n')\n",
    "print(f'Типы данных: \\n{active_studs.dtypes}')"
   ]
  },
  {
   "cell_type": "code",
   "execution_count": 363,
   "metadata": {},
   "outputs": [
    {
     "data": {
      "text/plain": [
       "student_id    0\n",
       "dtype: int64"
      ]
     },
     "execution_count": 363,
     "metadata": {},
     "output_type": "execute_result"
    }
   ],
   "source": [
    "active_studs.isna().sum()"
   ]
  },
  {
   "cell_type": "code",
   "execution_count": 364,
   "metadata": {},
   "outputs": [
    {
     "data": {
      "text/plain": [
       "0"
      ]
     },
     "execution_count": 364,
     "metadata": {},
     "output_type": "execute_result"
    }
   ],
   "source": [
    "active_studs.duplicated().sum()"
   ]
  },
  {
   "cell_type": "markdown",
   "metadata": {},
   "source": [
    "В ходе предварительного анализа выяснили, что пропусков и дублей нет, а все типы данных полностью соответсвуют отображаемым значениям.\n",
    "\n",
    "Для более удобной дальнейшей работы произведем необходимые преобразования и объединим файлы в один датасет"
   ]
  },
  {
   "cell_type": "code",
   "execution_count": 365,
   "metadata": {},
   "outputs": [
    {
     "data": {
      "text/html": [
       "<div>\n",
       "<style scoped>\n",
       "    .dataframe tbody tr th:only-of-type {\n",
       "        vertical-align: middle;\n",
       "    }\n",
       "\n",
       "    .dataframe tbody tr th {\n",
       "        vertical-align: top;\n",
       "    }\n",
       "\n",
       "    .dataframe thead th {\n",
       "        text-align: right;\n",
       "    }\n",
       "</style>\n",
       "<table border=\"1\" class=\"dataframe\">\n",
       "  <thead>\n",
       "    <tr style=\"text-align: right;\">\n",
       "      <th></th>\n",
       "      <th>id</th>\n",
       "      <th>grp</th>\n",
       "    </tr>\n",
       "  </thead>\n",
       "  <tbody>\n",
       "    <tr>\n",
       "      <th>0</th>\n",
       "      <td>1489</td>\n",
       "      <td>B</td>\n",
       "    </tr>\n",
       "    <tr>\n",
       "      <th>1</th>\n",
       "      <td>1627</td>\n",
       "      <td>A</td>\n",
       "    </tr>\n",
       "    <tr>\n",
       "      <th>2</th>\n",
       "      <td>1768</td>\n",
       "      <td>B</td>\n",
       "    </tr>\n",
       "    <tr>\n",
       "      <th>3</th>\n",
       "      <td>1783</td>\n",
       "      <td>B</td>\n",
       "    </tr>\n",
       "    <tr>\n",
       "      <th>4</th>\n",
       "      <td>1794</td>\n",
       "      <td>A</td>\n",
       "    </tr>\n",
       "  </tbody>\n",
       "</table>\n",
       "</div>"
      ],
      "text/plain": [
       "     id grp\n",
       "0  1489   B\n",
       "1  1627   A\n",
       "2  1768   B\n",
       "3  1783   B\n",
       "4  1794   A"
      ]
     },
     "execution_count": 365,
     "metadata": {},
     "output_type": "execute_result"
    }
   ],
   "source": [
    "#Объединяем датасеты groups и groups_add\n",
    "full_data = pd.concat([groups, groups_add], ignore_index = True)\n",
    "full_data.head()"
   ]
  },
  {
   "cell_type": "code",
   "execution_count": 366,
   "metadata": {},
   "outputs": [
    {
     "data": {
      "text/html": [
       "<div>\n",
       "<style scoped>\n",
       "    .dataframe tbody tr th:only-of-type {\n",
       "        vertical-align: middle;\n",
       "    }\n",
       "\n",
       "    .dataframe tbody tr th {\n",
       "        vertical-align: top;\n",
       "    }\n",
       "\n",
       "    .dataframe thead th {\n",
       "        text-align: right;\n",
       "    }\n",
       "</style>\n",
       "<table border=\"1\" class=\"dataframe\">\n",
       "  <thead>\n",
       "    <tr style=\"text-align: right;\">\n",
       "      <th></th>\n",
       "      <th>id</th>\n",
       "      <th>grp</th>\n",
       "      <th>student_id</th>\n",
       "    </tr>\n",
       "  </thead>\n",
       "  <tbody>\n",
       "    <tr>\n",
       "      <th>0</th>\n",
       "      <td>581585</td>\n",
       "      <td>A</td>\n",
       "      <td>581585</td>\n",
       "    </tr>\n",
       "    <tr>\n",
       "      <th>1</th>\n",
       "      <td>5723133</td>\n",
       "      <td>A</td>\n",
       "      <td>5723133</td>\n",
       "    </tr>\n",
       "    <tr>\n",
       "      <th>2</th>\n",
       "      <td>3276743</td>\n",
       "      <td>B</td>\n",
       "      <td>3276743</td>\n",
       "    </tr>\n",
       "    <tr>\n",
       "      <th>3</th>\n",
       "      <td>4238589</td>\n",
       "      <td>A</td>\n",
       "      <td>4238589</td>\n",
       "    </tr>\n",
       "    <tr>\n",
       "      <th>4</th>\n",
       "      <td>4475369</td>\n",
       "      <td>B</td>\n",
       "      <td>4475369</td>\n",
       "    </tr>\n",
       "  </tbody>\n",
       "</table>\n",
       "</div>"
      ],
      "text/plain": [
       "        id grp  student_id\n",
       "0   581585   A      581585\n",
       "1  5723133   A     5723133\n",
       "2  3276743   B     3276743\n",
       "3  4238589   A     4238589\n",
       "4  4475369   B     4475369"
      ]
     },
     "execution_count": 366,
     "metadata": {},
     "output_type": "execute_result"
    }
   ],
   "source": [
    "'''Объединим получившийся датасет с active_studs, чтобы получить \n",
    "информацию по тем пользователям, которые приходили в дни тестирования'''\n",
    "\n",
    "full_data = full_data.merge(active_studs, left_on = 'id', right_on = 'student_id', how = 'right')\n",
    "full_data.head()"
   ]
  },
  {
   "cell_type": "code",
   "execution_count": 367,
   "metadata": {},
   "outputs": [
    {
     "data": {
      "text/html": [
       "<div>\n",
       "<style scoped>\n",
       "    .dataframe tbody tr th:only-of-type {\n",
       "        vertical-align: middle;\n",
       "    }\n",
       "\n",
       "    .dataframe tbody tr th {\n",
       "        vertical-align: top;\n",
       "    }\n",
       "\n",
       "    .dataframe thead th {\n",
       "        text-align: right;\n",
       "    }\n",
       "</style>\n",
       "<table border=\"1\" class=\"dataframe\">\n",
       "  <thead>\n",
       "    <tr style=\"text-align: right;\">\n",
       "      <th></th>\n",
       "      <th>id</th>\n",
       "      <th>grp</th>\n",
       "    </tr>\n",
       "  </thead>\n",
       "  <tbody>\n",
       "    <tr>\n",
       "      <th>0</th>\n",
       "      <td>581585</td>\n",
       "      <td>A</td>\n",
       "    </tr>\n",
       "    <tr>\n",
       "      <th>1</th>\n",
       "      <td>5723133</td>\n",
       "      <td>A</td>\n",
       "    </tr>\n",
       "    <tr>\n",
       "      <th>2</th>\n",
       "      <td>3276743</td>\n",
       "      <td>B</td>\n",
       "    </tr>\n",
       "    <tr>\n",
       "      <th>3</th>\n",
       "      <td>4238589</td>\n",
       "      <td>A</td>\n",
       "    </tr>\n",
       "    <tr>\n",
       "      <th>4</th>\n",
       "      <td>4475369</td>\n",
       "      <td>B</td>\n",
       "    </tr>\n",
       "  </tbody>\n",
       "</table>\n",
       "</div>"
      ],
      "text/plain": [
       "        id grp\n",
       "0   581585   A\n",
       "1  5723133   A\n",
       "2  3276743   B\n",
       "3  4238589   A\n",
       "4  4475369   B"
      ]
     },
     "execution_count": 367,
     "metadata": {},
     "output_type": "execute_result"
    }
   ],
   "source": [
    "full_data = full_data.drop('student_id', axis = 1)\n",
    "full_data.head()"
   ]
  },
  {
   "cell_type": "code",
   "execution_count": 368,
   "metadata": {},
   "outputs": [],
   "source": [
    "#Объединяем датасет с датасетом checks\n",
    "full_data = full_data.merge(checks, left_on = 'id', right_on = 'student_id', how = 'inner')\n",
    "full_data = full_data.drop('student_id', axis = 1)"
   ]
  },
  {
   "cell_type": "code",
   "execution_count": 369,
   "metadata": {},
   "outputs": [
    {
     "data": {
      "text/html": [
       "<div>\n",
       "<style scoped>\n",
       "    .dataframe tbody tr th:only-of-type {\n",
       "        vertical-align: middle;\n",
       "    }\n",
       "\n",
       "    .dataframe tbody tr th {\n",
       "        vertical-align: top;\n",
       "    }\n",
       "\n",
       "    .dataframe thead th {\n",
       "        text-align: right;\n",
       "    }\n",
       "</style>\n",
       "<table border=\"1\" class=\"dataframe\">\n",
       "  <thead>\n",
       "    <tr style=\"text-align: right;\">\n",
       "      <th></th>\n",
       "      <th>id</th>\n",
       "      <th>grp</th>\n",
       "      <th>rev</th>\n",
       "    </tr>\n",
       "  </thead>\n",
       "  <tbody>\n",
       "    <tr>\n",
       "      <th>0</th>\n",
       "      <td>1184303</td>\n",
       "      <td>A</td>\n",
       "      <td>1530.0000</td>\n",
       "    </tr>\n",
       "    <tr>\n",
       "      <th>1</th>\n",
       "      <td>3354191</td>\n",
       "      <td>B</td>\n",
       "      <td>1900.0001</td>\n",
       "    </tr>\n",
       "    <tr>\n",
       "      <th>2</th>\n",
       "      <td>3278734</td>\n",
       "      <td>B</td>\n",
       "      <td>1900.0000</td>\n",
       "    </tr>\n",
       "    <tr>\n",
       "      <th>3</th>\n",
       "      <td>720651</td>\n",
       "      <td>A</td>\n",
       "      <td>1980.0000</td>\n",
       "    </tr>\n",
       "    <tr>\n",
       "      <th>4</th>\n",
       "      <td>1232221</td>\n",
       "      <td>B</td>\n",
       "      <td>1900.0000</td>\n",
       "    </tr>\n",
       "  </tbody>\n",
       "</table>\n",
       "</div>"
      ],
      "text/plain": [
       "        id grp        rev\n",
       "0  1184303   A  1530.0000\n",
       "1  3354191   B  1900.0001\n",
       "2  3278734   B  1900.0000\n",
       "3   720651   A  1980.0000\n",
       "4  1232221   B  1900.0000"
      ]
     },
     "execution_count": 369,
     "metadata": {},
     "output_type": "execute_result"
    }
   ],
   "source": [
    "full_data.head()"
   ]
  },
  {
   "cell_type": "code",
   "execution_count": 370,
   "metadata": {},
   "outputs": [
    {
     "name": "stdout",
     "output_type": "stream",
     "text": [
      "<class 'pandas.core.frame.DataFrame'>\n",
      "Int64Index: 392 entries, 0 to 391\n",
      "Data columns (total 3 columns):\n",
      " #   Column  Non-Null Count  Dtype  \n",
      "---  ------  --------------  -----  \n",
      " 0   id      392 non-null    int64  \n",
      " 1   grp     392 non-null    object \n",
      " 2   rev     392 non-null    float64\n",
      "dtypes: float64(1), int64(1), object(1)\n",
      "memory usage: 12.2+ KB\n"
     ]
    }
   ],
   "source": [
    "#Посмотрим информацию о получившемся датасете\n",
    "full_data.info()"
   ]
  },
  {
   "cell_type": "code",
   "execution_count": 371,
   "metadata": {},
   "outputs": [
    {
     "data": {
      "text/plain": [
       "id     0\n",
       "grp    0\n",
       "rev    0\n",
       "dtype: int64"
      ]
     },
     "execution_count": 371,
     "metadata": {},
     "output_type": "execute_result"
    }
   ],
   "source": [
    "full_data.isna().sum()"
   ]
  },
  {
   "cell_type": "code",
   "execution_count": 372,
   "metadata": {},
   "outputs": [
    {
     "data": {
      "text/plain": [
       "0"
      ]
     },
     "execution_count": 372,
     "metadata": {},
     "output_type": "execute_result"
    }
   ],
   "source": [
    "full_data.duplicated().sum()"
   ]
  },
  {
   "cell_type": "markdown",
   "metadata": {},
   "source": [
    "Полученный датасет (full_data) содержит в себе только тех пользователей, которые заходят на платформу. \n",
    "\n",
    "Однако стоит также проанализировать тех пользователей, которые не посещали платформу в дни проведения эксперимента, чтобы лучше понимать данные и, возможно, найти в них ошибки\n",
    "\n",
    "Для этого объединим датасеты с помощью \"outer merge\". Также для более удобной работы обозначим студентов из датасета active_studs с помощью столбца, который показывает, что пользователь посещал платформу (visit_test)."
   ]
  },
  {
   "cell_type": "code",
   "execution_count": 373,
   "metadata": {},
   "outputs": [],
   "source": [
    "all_studs = pd.concat([groups, groups_add], ignore_index = True)\n",
    "all_studs = all_studs.merge(checks, how = 'outer', left_on = 'id', right_on = 'student_id')\n",
    "all_studs = all_studs.drop('student_id', axis = 1)"
   ]
  },
  {
   "cell_type": "code",
   "execution_count": 374,
   "metadata": {},
   "outputs": [],
   "source": [
    "act_studs = active_studs\n",
    "act_studs['visit_test'] = 1"
   ]
  },
  {
   "cell_type": "code",
   "execution_count": 375,
   "metadata": {},
   "outputs": [],
   "source": [
    "all_studs = all_studs.merge(act_studs, how = 'outer', left_on = 'id', right_on = 'student_id')\n",
    "all_studs = all_studs.drop('student_id', axis = 1).fillna(0)\n",
    "all_studs.visit_test = all_studs.visit_test.astype(int)"
   ]
  },
  {
   "cell_type": "code",
   "execution_count": 376,
   "metadata": {},
   "outputs": [
    {
     "data": {
      "text/html": [
       "<div>\n",
       "<style scoped>\n",
       "    .dataframe tbody tr th:only-of-type {\n",
       "        vertical-align: middle;\n",
       "    }\n",
       "\n",
       "    .dataframe tbody tr th {\n",
       "        vertical-align: top;\n",
       "    }\n",
       "\n",
       "    .dataframe thead th {\n",
       "        text-align: right;\n",
       "    }\n",
       "</style>\n",
       "<table border=\"1\" class=\"dataframe\">\n",
       "  <thead>\n",
       "    <tr style=\"text-align: right;\">\n",
       "      <th></th>\n",
       "      <th>id</th>\n",
       "      <th>grp</th>\n",
       "      <th>rev</th>\n",
       "      <th>visit_test</th>\n",
       "    </tr>\n",
       "  </thead>\n",
       "  <tbody>\n",
       "    <tr>\n",
       "      <th>0</th>\n",
       "      <td>1489</td>\n",
       "      <td>B</td>\n",
       "      <td>0.0</td>\n",
       "      <td>0</td>\n",
       "    </tr>\n",
       "    <tr>\n",
       "      <th>1</th>\n",
       "      <td>1627</td>\n",
       "      <td>A</td>\n",
       "      <td>990.0</td>\n",
       "      <td>1</td>\n",
       "    </tr>\n",
       "    <tr>\n",
       "      <th>2</th>\n",
       "      <td>1768</td>\n",
       "      <td>B</td>\n",
       "      <td>0.0</td>\n",
       "      <td>0</td>\n",
       "    </tr>\n",
       "    <tr>\n",
       "      <th>3</th>\n",
       "      <td>1783</td>\n",
       "      <td>B</td>\n",
       "      <td>0.0</td>\n",
       "      <td>0</td>\n",
       "    </tr>\n",
       "    <tr>\n",
       "      <th>4</th>\n",
       "      <td>1794</td>\n",
       "      <td>A</td>\n",
       "      <td>0.0</td>\n",
       "      <td>0</td>\n",
       "    </tr>\n",
       "  </tbody>\n",
       "</table>\n",
       "</div>"
      ],
      "text/plain": [
       "     id grp    rev  visit_test\n",
       "0  1489   B    0.0           0\n",
       "1  1627   A  990.0           1\n",
       "2  1768   B    0.0           0\n",
       "3  1783   B    0.0           0\n",
       "4  1794   A    0.0           0"
      ]
     },
     "execution_count": 376,
     "metadata": {},
     "output_type": "execute_result"
    }
   ],
   "source": [
    "all_studs.head()"
   ]
  },
  {
   "cell_type": "code",
   "execution_count": 377,
   "metadata": {},
   "outputs": [
    {
     "name": "stdout",
     "output_type": "stream",
     "text": [
      "<class 'pandas.core.frame.DataFrame'>\n",
      "Int64Index: 74576 entries, 0 to 74575\n",
      "Data columns (total 4 columns):\n",
      " #   Column      Non-Null Count  Dtype  \n",
      "---  ------      --------------  -----  \n",
      " 0   id          74576 non-null  int64  \n",
      " 1   grp         74576 non-null  object \n",
      " 2   rev         74576 non-null  float64\n",
      " 3   visit_test  74576 non-null  int64  \n",
      "dtypes: float64(1), int64(2), object(1)\n",
      "memory usage: 2.8+ MB\n"
     ]
    }
   ],
   "source": [
    "all_studs.info()"
   ]
  },
  {
   "cell_type": "code",
   "execution_count": 378,
   "metadata": {},
   "outputs": [
    {
     "data": {
      "text/plain": [
       "0"
      ]
     },
     "execution_count": 378,
     "metadata": {},
     "output_type": "execute_result"
    }
   ],
   "source": [
    "all_studs.duplicated().sum()"
   ]
  },
  {
   "cell_type": "markdown",
   "metadata": {},
   "source": [
    "Можем заметить, что пустых значений и дублей нет.\n",
    "\n",
    "Далее проверим тех пользователей, которые не были на платформе в день проведения тестирования, но у них есть проведенная оплата."
   ]
  },
  {
   "cell_type": "code",
   "execution_count": 379,
   "metadata": {},
   "outputs": [
    {
     "data": {
      "text/html": [
       "<div>\n",
       "<style scoped>\n",
       "    .dataframe tbody tr th:only-of-type {\n",
       "        vertical-align: middle;\n",
       "    }\n",
       "\n",
       "    .dataframe tbody tr th {\n",
       "        vertical-align: top;\n",
       "    }\n",
       "\n",
       "    .dataframe thead th {\n",
       "        text-align: right;\n",
       "    }\n",
       "</style>\n",
       "<table border=\"1\" class=\"dataframe\">\n",
       "  <thead>\n",
       "    <tr style=\"text-align: right;\">\n",
       "      <th></th>\n",
       "      <th>id</th>\n",
       "      <th>grp</th>\n",
       "      <th>rev</th>\n",
       "      <th>visit_test</th>\n",
       "    </tr>\n",
       "  </thead>\n",
       "  <tbody>\n",
       "    <tr>\n",
       "      <th>39</th>\n",
       "      <td>3185</td>\n",
       "      <td>B</td>\n",
       "      <td>690.0</td>\n",
       "      <td>0</td>\n",
       "    </tr>\n",
       "    <tr>\n",
       "      <th>121</th>\n",
       "      <td>25973</td>\n",
       "      <td>B</td>\n",
       "      <td>690.0</td>\n",
       "      <td>0</td>\n",
       "    </tr>\n",
       "    <tr>\n",
       "      <th>125</th>\n",
       "      <td>26280</td>\n",
       "      <td>B</td>\n",
       "      <td>690.0</td>\n",
       "      <td>0</td>\n",
       "    </tr>\n",
       "    <tr>\n",
       "      <th>223</th>\n",
       "      <td>100645</td>\n",
       "      <td>B</td>\n",
       "      <td>630.0</td>\n",
       "      <td>0</td>\n",
       "    </tr>\n",
       "    <tr>\n",
       "      <th>254</th>\n",
       "      <td>102534</td>\n",
       "      <td>B</td>\n",
       "      <td>580.0</td>\n",
       "      <td>0</td>\n",
       "    </tr>\n",
       "  </tbody>\n",
       "</table>\n",
       "</div>"
      ],
      "text/plain": [
       "         id grp    rev  visit_test\n",
       "39     3185   B  690.0           0\n",
       "121   25973   B  690.0           0\n",
       "125   26280   B  690.0           0\n",
       "223  100645   B  630.0           0\n",
       "254  102534   B  580.0           0"
      ]
     },
     "execution_count": 379,
     "metadata": {},
     "output_type": "execute_result"
    }
   ],
   "source": [
    "all_studs.query('visit_test == 0 and rev != 0').head()"
   ]
  },
  {
   "cell_type": "code",
   "execution_count": 380,
   "metadata": {},
   "outputs": [
    {
     "data": {
      "text/html": [
       "<div>\n",
       "<style scoped>\n",
       "    .dataframe tbody tr th:only-of-type {\n",
       "        vertical-align: middle;\n",
       "    }\n",
       "\n",
       "    .dataframe tbody tr th {\n",
       "        vertical-align: top;\n",
       "    }\n",
       "\n",
       "    .dataframe thead th {\n",
       "        text-align: right;\n",
       "    }\n",
       "</style>\n",
       "<table border=\"1\" class=\"dataframe\">\n",
       "  <thead>\n",
       "    <tr style=\"text-align: right;\">\n",
       "      <th></th>\n",
       "      <th>grp</th>\n",
       "      <th>id</th>\n",
       "    </tr>\n",
       "  </thead>\n",
       "  <tbody>\n",
       "    <tr>\n",
       "      <th>0</th>\n",
       "      <td>A</td>\n",
       "      <td>29</td>\n",
       "    </tr>\n",
       "    <tr>\n",
       "      <th>1</th>\n",
       "      <td>B</td>\n",
       "      <td>120</td>\n",
       "    </tr>\n",
       "  </tbody>\n",
       "</table>\n",
       "</div>"
      ],
      "text/plain": [
       "  grp   id\n",
       "0   A   29\n",
       "1   B  120"
      ]
     },
     "execution_count": 380,
     "metadata": {},
     "output_type": "execute_result"
    }
   ],
   "source": [
    "#Как оказалось такой случай возможен. Проверим количество таких записей в каждой из групп\n",
    "all_studs.query('visit_test == 0 and rev != 0')\\\n",
    "         .groupby('grp', as_index = False)\\\n",
    "         .agg({'id':'count'})"
   ]
  },
  {
   "cell_type": "markdown",
   "metadata": {},
   "source": [
    "Можем заметить, что есть 149 записей, в которых есть оплата, но пользователи не заходили на платформу\n",
    "\n",
    "Возможно, что это платеж за подписку или ошибка в данных. Либо ошибка системы учета входящих пользователей. В любом случае не будем эти записи использовать в дальнейшей работе."
   ]
  },
  {
   "cell_type": "markdown",
   "metadata": {},
   "source": [
    "### Изучим распределения величин в каждой из групп"
   ]
  },
  {
   "cell_type": "code",
   "execution_count": 381,
   "metadata": {},
   "outputs": [
    {
     "name": "stdout",
     "output_type": "stream",
     "text": [
      "Доля пользователей группы А: 0.19898\n",
      "Доля пользователей группы В: 0.80102\n"
     ]
    }
   ],
   "source": [
    "#Посмотрим соотношение двух групп в датасете\n",
    "print(f'Доля пользователей группы А: {full_data.grp.value_counts(normalize = True).iloc[1].round(5)}')\n",
    "print(f'Доля пользователей группы В: {full_data.grp.value_counts(normalize = True).iloc[0].round(5)}')"
   ]
  },
  {
   "cell_type": "code",
   "execution_count": 382,
   "metadata": {},
   "outputs": [
    {
     "data": {
      "image/png": "[encoded data removed]",
      "text/plain": [
       "<Figure size 864x432 with 1 Axes>"
      ]
     },
     "metadata": {},
     "output_type": "display_data"
    }
   ],
   "source": [
    "sns.set(rc={'figure.figsize': (12, 6)})\n",
    "ax = sns.countplot(data = full_data, x = 'grp', color = 'deepskyblue')\n",
    "ax.set(xlabel = 'Группа', ylabel = 'Кол-во')\n",
    "sns.despine()"
   ]
  },
  {
   "cell_type": "markdown",
   "metadata": {},
   "source": [
    "Можем заметить, что пользователей в группе B в 4 раза больше, чем в группе А\n",
    "\n",
    "Далее рассмотрим распределение суммы покупок в каждой из групп"
   ]
  },
  {
   "cell_type": "code",
   "execution_count": 383,
   "metadata": {},
   "outputs": [],
   "source": [
    "grp_A = full_data.query('grp == \"A\"')\n",
    "grp_B = full_data.query('grp == \"B\"')"
   ]
  },
  {
   "cell_type": "code",
   "execution_count": 384,
   "metadata": {},
   "outputs": [
    {
     "data": {
      "image/png": "[encoded data removed]",
      "text/plain": [
       "<Figure size 864x432 with 2 Axes>"
      ]
     },
     "metadata": {},
     "output_type": "display_data"
    }
   ],
   "source": [
    "fig, axs = plt.subplots(1, 2)\n",
    "axs[0].hist(grp_A.rev, color = 'deepskyblue')\n",
    "axs[0].set_title('Группа A')\n",
    "axs[0].set(xlabel='Выручка', ylabel='Кол-во пользователей')\n",
    "axs[1].hist(grp_B.rev, color = 'deepskyblue')\n",
    "axs[1].set_title('Группа В')\n",
    "axs[1].set(xlabel='Выручка', ylabel='Кол-во пользователей')\n",
    "plt.show()"
   ]
  },
  {
   "cell_type": "markdown",
   "metadata": {},
   "source": [
    "Можем заметить, что распределения в обеих группах отличаются от нормального.\n",
    "\n",
    "Проверим это утверждение с помощью теста Шапиро-Уилка"
   ]
  },
  {
   "cell_type": "code",
   "execution_count": 385,
   "metadata": {},
   "outputs": [
    {
     "data": {
      "text/plain": [
       "ShapiroResult(statistic=0.7353236079216003, pvalue=1.4986822893803264e-10)"
      ]
     },
     "execution_count": 385,
     "metadata": {},
     "output_type": "execute_result"
    }
   ],
   "source": [
    "# Проверка на нормальность распределения группы А\n",
    "ss.shapiro(grp_A.rev)"
   ]
  },
  {
   "cell_type": "code",
   "execution_count": 386,
   "metadata": {},
   "outputs": [
    {
     "data": {
      "text/plain": [
       "ShapiroResult(statistic=0.8547235727310181, pvalue=1.5437024585965894e-16)"
      ]
     },
     "execution_count": 386,
     "metadata": {},
     "output_type": "execute_result"
    }
   ],
   "source": [
    "# Проверка на нормальность распределения группы В\n",
    "ss.shapiro(grp_B.rev)"
   ]
  },
  {
   "cell_type": "markdown",
   "metadata": {},
   "source": [
    "Т.к. для обоих распределений критерий показал pvalue гораздо меньшее, чем 0.05, то мы можем отклонить нулевую гипотезу, которая утверждает, что данная выборка получена из нормального распределения.\n",
    "\n",
    "Другими словами - оба распределения не являются нормальными."
   ]
  },
  {
   "cell_type": "code",
   "execution_count": 387,
   "metadata": {},
   "outputs": [
    {
     "data": {
      "text/plain": [
       "LeveneResult(statistic=0.35109219559848104, pvalue=0.5538389015879754)"
      ]
     },
     "execution_count": 387,
     "metadata": {},
     "output_type": "execute_result"
    }
   ],
   "source": [
    "# Проверка на равенство дисперсий\n",
    "ss.levene(grp_A.rev, grp_B.rev, center = 'mean')"
   ]
  },
  {
   "cell_type": "markdown",
   "metadata": {},
   "source": [
    "Т.к. критерий показал значение pvalue большее, чем 0.05, то мы не можем отклонить нулевую гипотезу, которая утверждает, что дисперсии в сравниваемых выборках равны.\n",
    "\n",
    "Другими словами - дисперсии в выборках равны."
   ]
  },
  {
   "cell_type": "markdown",
   "metadata": {},
   "source": [
    "*Попробуем исправить ситуацию, прологорифмировав переменную, тем самым сделать распределение более симметричным.*\n",
    "\n",
    "*И также проверим распределения на нормальность и гомоскедантичность.*"
   ]
  },
  {
   "cell_type": "code",
   "execution_count": 388,
   "metadata": {},
   "outputs": [
    {
     "data": {
      "image/png": "[encoded data removed]",
      "text/plain": [
       "<Figure size 864x432 with 2 Axes>"
      ]
     },
     "metadata": {},
     "output_type": "display_data"
    }
   ],
   "source": [
    "fig, axs = plt.subplots(1, 2)\n",
    "axs[0].hist(np.log(grp_A.rev), color = 'deepskyblue')\n",
    "axs[0].set_title('Группа A')\n",
    "axs[0].set(xlabel='Выручка', ylabel='Кол-во пользователей')\n",
    "axs[1].hist(np.log(grp_B.rev), color = 'deepskyblue')\n",
    "axs[1].set_title('Группа В')\n",
    "axs[1].set(xlabel='Выручка', ylabel='Кол-во пользователей')\n",
    "plt.show()"
   ]
  },
  {
   "cell_type": "code",
   "execution_count": 389,
   "metadata": {},
   "outputs": [
    {
     "data": {
      "text/plain": [
       "ShapiroResult(statistic=0.9057686924934387, pvalue=2.680935176613275e-05)"
      ]
     },
     "execution_count": 389,
     "metadata": {},
     "output_type": "execute_result"
    }
   ],
   "source": [
    "# Проверка на нормальность распределения группы А\n",
    "ss.shapiro(np.log(grp_A.rev))"
   ]
  },
  {
   "cell_type": "code",
   "execution_count": 390,
   "metadata": {},
   "outputs": [
    {
     "data": {
      "text/plain": [
       "ShapiroResult(statistic=0.8419413566589355, pvalue=2.9242029102554055e-17)"
      ]
     },
     "execution_count": 390,
     "metadata": {},
     "output_type": "execute_result"
    }
   ],
   "source": [
    "# Проверка на нормальность распределения группы В\n",
    "ss.shapiro(np.log(grp_B.rev))"
   ]
  },
  {
   "cell_type": "markdown",
   "metadata": {},
   "source": [
    "Т.к. для обоих распределений критерий показал pvalue гораздо меньшее, чем 0.05, то мы можем отклонить нулевую гипотезу, которая утверждает, что данная выборка получена из нормального распределения.\n",
    "\n",
    "Другими словами - оба распределения не являются нормальными."
   ]
  },
  {
   "cell_type": "code",
   "execution_count": 391,
   "metadata": {},
   "outputs": [
    {
     "data": {
      "text/plain": [
       "LeveneResult(statistic=0.18336047079425533, pvalue=0.6687374476516859)"
      ]
     },
     "execution_count": 391,
     "metadata": {},
     "output_type": "execute_result"
    }
   ],
   "source": [
    "# Проверка на равенство дисперсий\n",
    "ss.levene(np.log(grp_A.rev), np.log(grp_B.rev), center = 'mean')"
   ]
  },
  {
   "cell_type": "markdown",
   "metadata": {},
   "source": [
    "Т.к. критерий показал значение pvalue большее, чем 0.05, то мы не можем отклонить нулевую гипотезу, которая утверждает, что дисперсии в сравниваемых выборках равны.\n",
    "\n",
    "Другими словами - дисперсии в выборках равны.\n",
    "\n",
    "Т.е. преобразование переменной существенно не повлияло на нормальность и равенство дисперсий."
   ]
  },
  {
   "cell_type": "markdown",
   "metadata": {},
   "source": [
    "### Тестирование\n",
    "\n",
    "Перейдем к выбору метрик для проведения тестирования, также сформулируем проверяемые гипотезы и определим, какие статистические тесты необходимо использовать для проверки получившихся гипотез\n",
    "\n",
    "Все это необходимо для того, чтобы ответить на вопрос: __\"Стоит ли запускать новую механику оплаты на всех пользователей?\"__"
   ]
  },
  {
   "cell_type": "markdown",
   "metadata": {},
   "source": [
    "#### Выбор метрик\n",
    "\n",
    "1. CR в покупку\n",
    "2. ARPU\n",
    "3. ARPPU"
   ]
  },
  {
   "cell_type": "code",
   "execution_count": 392,
   "metadata": {},
   "outputs": [],
   "source": [
    "ARPPU_A = grp_A.rev.sum()/grp_A.id.count()\n",
    "ARPPU_B = grp_B.rev.sum()/grp_B.id.count()"
   ]
  },
  {
   "cell_type": "code",
   "execution_count": 393,
   "metadata": {},
   "outputs": [
    {
     "name": "stdout",
     "output_type": "stream",
     "text": [
      "ARPPU в группе А: 933.59\n",
      "ARPPU в группе B: 1257.88\n"
     ]
    }
   ],
   "source": [
    "print(f'ARPPU в группе А: {ARPPU_A.round(2)}')\n",
    "print(f'ARPPU в группе B: {ARPPU_B.round(2)}')"
   ]
  },
  {
   "cell_type": "markdown",
   "metadata": {},
   "source": [
    "Для проверки метрики ARPPU используем Bootstrap"
   ]
  },
  {
   "cell_type": "markdown",
   "metadata": {},
   "source": [
    "**Bootstrap**\n",
    "* **H0** - Различий в ARPPU нет\n",
    "* **H1** - Различия в ARPPU есть"
   ]
  },
  {
   "cell_type": "code",
   "execution_count": 394,
   "metadata": {},
   "outputs": [],
   "source": [
    "# Реализуем функцию для Bootstrap\n",
    "def get_bootstrap(\n",
    "    data_column_1, # числовые значения первой выборки\n",
    "    data_column_2, # числовые значения второй выборки\n",
    "    boot_it = 2000, # количество бутстрэп-подвыборок\n",
    "    statistic = np.mean, # интересующая нас статистика\n",
    "    bootstrap_conf_level = 0.95 # уровень значимости\n",
    "):\n",
    "    boot_len = max([len(data_column_1), len(data_column_2)])\n",
    "    boot_data = []\n",
    "    for i in tqdm(range(boot_it)): # извлекаем подвыборки\n",
    "        samples_1 = data_column_1.sample(\n",
    "            boot_len, \n",
    "            replace = True # параметр возвращения\n",
    "        ).values\n",
    "        \n",
    "        samples_2 = data_column_2.sample(\n",
    "            boot_len, # чтобы сохранить дисперсию, берем такой же размер выборки\n",
    "            replace = True\n",
    "        ).values\n",
    "        \n",
    "        boot_data.append(statistic(samples_1-samples_2)) \n",
    "    pd_boot_data = pd.DataFrame(boot_data)\n",
    "        \n",
    "    left_quant = (1 - bootstrap_conf_level)/2\n",
    "    right_quant = 1 - (1 - bootstrap_conf_level) / 2\n",
    "    quants = pd_boot_data.quantile([left_quant, right_quant])\n",
    "        \n",
    "    p_1 = ss.norm.cdf(\n",
    "        x = 0, \n",
    "        loc = np.mean(boot_data), \n",
    "        scale = np.std(boot_data)\n",
    "    )\n",
    "    p_2 = ss.norm.cdf(\n",
    "        x = 0, \n",
    "        loc = -np.mean(boot_data), \n",
    "        scale = np.std(boot_data)\n",
    "    )\n",
    "    p_value = min(p_1, p_2) * 2\n",
    "        \n",
    "    # Визуализация\n",
    "    _, _, bars = plt.hist(pd_boot_data[0], bins = 50)\n",
    "    for bar in bars:\n",
    "        if abs(bar.get_x()) <= quants.iloc[0][0] or abs(bar.get_x()) >= quants.iloc[1][0]:\n",
    "            bar.set_facecolor('red')\n",
    "        else: \n",
    "            bar.set_facecolor('deepskyblue')\n",
    "            bar.set_edgecolor('black')\n",
    "    \n",
    "    plt.style.use('ggplot')\n",
    "    plt.vlines(quants,ymin=0,ymax=50,linestyle='--')\n",
    "    plt.xlabel('boot_data')\n",
    "    plt.ylabel('frequency')\n",
    "    plt.title(\"Histogram of boot_data\")\n",
    "    plt.show()\n",
    "       \n",
    "    return {\"boot_data\": boot_data, \n",
    "            \"quants\": quants, \n",
    "            \"p_value\": p_value}"
   ]
  },
  {
   "cell_type": "code",
   "execution_count": 395,
   "metadata": {},
   "outputs": [
    {
     "data": {
      "application/vnd.jupyter.widget-view+json": {
       "model_id": "4ab26b933ae84478a02cc41321ff6ff2",
       "version_major": 2,
       "version_minor": 0
      },
      "text/plain": [
       "HBox(children=(FloatProgress(value=0.0, max=2000.0), HTML(value='')))"
      ]
     },
     "metadata": {},
     "output_type": "display_data"
    },
    {
     "name": "stdout",
     "output_type": "stream",
     "text": [
      "\n"
     ]
    },
    {
     "data": {
      "image/png": "[encoded data removed]",
      "text/plain": [
       "<Figure size 864x432 with 1 Axes>"
      ]
     },
     "metadata": {},
     "output_type": "display_data"
    }
   ],
   "source": [
    "bootstrap_test = get_bootstrap(grp_B.rev, grp_A.rev)"
   ]
  },
  {
   "cell_type": "code",
   "execution_count": 396,
   "metadata": {},
   "outputs": [
    {
     "data": {
      "text/plain": [
       "1.3216158869588248e-06"
      ]
     },
     "execution_count": 396,
     "metadata": {},
     "output_type": "execute_result"
    }
   ],
   "source": [
    "bootstrap_test['p_value']"
   ]
  },
  {
   "cell_type": "code",
   "execution_count": 397,
   "metadata": {},
   "outputs": [
    {
     "data": {
      "text/html": [
       "<div>\n",
       "<style scoped>\n",
       "    .dataframe tbody tr th:only-of-type {\n",
       "        vertical-align: middle;\n",
       "    }\n",
       "\n",
       "    .dataframe tbody tr th {\n",
       "        vertical-align: top;\n",
       "    }\n",
       "\n",
       "    .dataframe thead th {\n",
       "        text-align: right;\n",
       "    }\n",
       "</style>\n",
       "<table border=\"1\" class=\"dataframe\">\n",
       "  <thead>\n",
       "    <tr style=\"text-align: right;\">\n",
       "      <th></th>\n",
       "      <th>0</th>\n",
       "    </tr>\n",
       "  </thead>\n",
       "  <tbody>\n",
       "    <tr>\n",
       "      <th>0.025</th>\n",
       "      <td>191.163068</td>\n",
       "    </tr>\n",
       "    <tr>\n",
       "      <th>0.975</th>\n",
       "      <td>454.003675</td>\n",
       "    </tr>\n",
       "  </tbody>\n",
       "</table>\n",
       "</div>"
      ],
      "text/plain": [
       "                0\n",
       "0.025  191.163068\n",
       "0.975  454.003675"
      ]
     },
     "execution_count": 397,
     "metadata": {},
     "output_type": "execute_result"
    }
   ],
   "source": [
    "bootstrap_test['quants']"
   ]
  },
  {
   "cell_type": "markdown",
   "metadata": {},
   "source": [
    "Т.к. значение p-value сильно меньше граничного уровня значимости (0.05), то мы можем отклонить нулевую гипотезу и сделать вывод, что имеются статистически значимые различия в ARPPU в группах.\n",
    "\n",
    "Также стоит заметить, что 0 не входит в доверительный интервал."
   ]
  },
  {
   "cell_type": "markdown",
   "metadata": {},
   "source": [
    "С помощью статистического метода Хи-квадрат проверим статзначимость изменения конверсии в покупку. Для этого необходимо преобразовать данные, построить таблицу сопряженности и проверить с помощью критерия согласия Пирсона.\n",
    "\n",
    "**Хи-квадрат**\n",
    "\n",
    "* **Н0** - новая механика оплаты не повлияла на конверсию\n",
    "* **Н1** - новая механика оплаты повлияла на конверсию"
   ]
  },
  {
   "cell_type": "code",
   "execution_count": 398,
   "metadata": {},
   "outputs": [],
   "source": [
    "#CR\n",
    "cr_df = pd.concat([groups, groups_add], ignore_index = True)\n",
    "cr_df = cr_df.merge(active_studs, left_on = 'id', right_on = 'student_id', how = 'right')"
   ]
  },
  {
   "cell_type": "code",
   "execution_count": 399,
   "metadata": {},
   "outputs": [
    {
     "data": {
      "text/html": [
       "<div>\n",
       "<style scoped>\n",
       "    .dataframe tbody tr th:only-of-type {\n",
       "        vertical-align: middle;\n",
       "    }\n",
       "\n",
       "    .dataframe tbody tr th {\n",
       "        vertical-align: top;\n",
       "    }\n",
       "\n",
       "    .dataframe thead th {\n",
       "        text-align: right;\n",
       "    }\n",
       "</style>\n",
       "<table border=\"1\" class=\"dataframe\">\n",
       "  <thead>\n",
       "    <tr style=\"text-align: right;\">\n",
       "      <th></th>\n",
       "      <th>id</th>\n",
       "      <th>grp</th>\n",
       "      <th>visit_test</th>\n",
       "    </tr>\n",
       "  </thead>\n",
       "  <tbody>\n",
       "    <tr>\n",
       "      <th>0</th>\n",
       "      <td>581585</td>\n",
       "      <td>A</td>\n",
       "      <td>1</td>\n",
       "    </tr>\n",
       "    <tr>\n",
       "      <th>1</th>\n",
       "      <td>5723133</td>\n",
       "      <td>A</td>\n",
       "      <td>1</td>\n",
       "    </tr>\n",
       "    <tr>\n",
       "      <th>2</th>\n",
       "      <td>3276743</td>\n",
       "      <td>B</td>\n",
       "      <td>1</td>\n",
       "    </tr>\n",
       "    <tr>\n",
       "      <th>3</th>\n",
       "      <td>4238589</td>\n",
       "      <td>A</td>\n",
       "      <td>1</td>\n",
       "    </tr>\n",
       "    <tr>\n",
       "      <th>4</th>\n",
       "      <td>4475369</td>\n",
       "      <td>B</td>\n",
       "      <td>1</td>\n",
       "    </tr>\n",
       "  </tbody>\n",
       "</table>\n",
       "</div>"
      ],
      "text/plain": [
       "        id grp  visit_test\n",
       "0   581585   A           1\n",
       "1  5723133   A           1\n",
       "2  3276743   B           1\n",
       "3  4238589   A           1\n",
       "4  4475369   B           1"
      ]
     },
     "execution_count": 399,
     "metadata": {},
     "output_type": "execute_result"
    }
   ],
   "source": [
    "cr_df = cr_df.drop('student_id', axis = 1)\n",
    "cr_df.head()"
   ]
  },
  {
   "cell_type": "code",
   "execution_count": 400,
   "metadata": {},
   "outputs": [
    {
     "data": {
      "text/html": [
       "<div>\n",
       "<style scoped>\n",
       "    .dataframe tbody tr th:only-of-type {\n",
       "        vertical-align: middle;\n",
       "    }\n",
       "\n",
       "    .dataframe tbody tr th {\n",
       "        vertical-align: top;\n",
       "    }\n",
       "\n",
       "    .dataframe thead th {\n",
       "        text-align: right;\n",
       "    }\n",
       "</style>\n",
       "<table border=\"1\" class=\"dataframe\">\n",
       "  <thead>\n",
       "    <tr style=\"text-align: right;\">\n",
       "      <th></th>\n",
       "      <th>student_id</th>\n",
       "      <th>rev</th>\n",
       "      <th>payment</th>\n",
       "    </tr>\n",
       "  </thead>\n",
       "  <tbody>\n",
       "    <tr>\n",
       "      <th>0</th>\n",
       "      <td>1627</td>\n",
       "      <td>990.0</td>\n",
       "      <td>1</td>\n",
       "    </tr>\n",
       "    <tr>\n",
       "      <th>1</th>\n",
       "      <td>3185</td>\n",
       "      <td>690.0</td>\n",
       "      <td>1</td>\n",
       "    </tr>\n",
       "    <tr>\n",
       "      <th>2</th>\n",
       "      <td>25973</td>\n",
       "      <td>690.0</td>\n",
       "      <td>1</td>\n",
       "    </tr>\n",
       "    <tr>\n",
       "      <th>3</th>\n",
       "      <td>26280</td>\n",
       "      <td>690.0</td>\n",
       "      <td>1</td>\n",
       "    </tr>\n",
       "    <tr>\n",
       "      <th>4</th>\n",
       "      <td>100300</td>\n",
       "      <td>990.0</td>\n",
       "      <td>1</td>\n",
       "    </tr>\n",
       "  </tbody>\n",
       "</table>\n",
       "</div>"
      ],
      "text/plain": [
       "   student_id    rev  payment\n",
       "0        1627  990.0        1\n",
       "1        3185  690.0        1\n",
       "2       25973  690.0        1\n",
       "3       26280  690.0        1\n",
       "4      100300  990.0        1"
      ]
     },
     "execution_count": 400,
     "metadata": {},
     "output_type": "execute_result"
    }
   ],
   "source": [
    "checks['payment'] = 1\n",
    "checks.head()"
   ]
  },
  {
   "cell_type": "code",
   "execution_count": 401,
   "metadata": {},
   "outputs": [],
   "source": [
    "cr_df = cr_df.merge(checks, left_on = 'id', right_on = 'student_id', how = 'left')"
   ]
  },
  {
   "cell_type": "code",
   "execution_count": 402,
   "metadata": {},
   "outputs": [],
   "source": [
    "cr_df = cr_df.drop('student_id', axis = 1).fillna(0)"
   ]
  },
  {
   "cell_type": "code",
   "execution_count": 403,
   "metadata": {},
   "outputs": [
    {
     "data": {
      "text/html": [
       "<div>\n",
       "<style scoped>\n",
       "    .dataframe tbody tr th:only-of-type {\n",
       "        vertical-align: middle;\n",
       "    }\n",
       "\n",
       "    .dataframe tbody tr th {\n",
       "        vertical-align: top;\n",
       "    }\n",
       "\n",
       "    .dataframe thead th {\n",
       "        text-align: right;\n",
       "    }\n",
       "</style>\n",
       "<table border=\"1\" class=\"dataframe\">\n",
       "  <thead>\n",
       "    <tr style=\"text-align: right;\">\n",
       "      <th></th>\n",
       "      <th>id</th>\n",
       "      <th>grp</th>\n",
       "      <th>visit_test</th>\n",
       "      <th>rev</th>\n",
       "      <th>payment</th>\n",
       "    </tr>\n",
       "  </thead>\n",
       "  <tbody>\n",
       "    <tr>\n",
       "      <th>0</th>\n",
       "      <td>581585</td>\n",
       "      <td>A</td>\n",
       "      <td>1</td>\n",
       "      <td>0.0</td>\n",
       "      <td>0</td>\n",
       "    </tr>\n",
       "    <tr>\n",
       "      <th>1</th>\n",
       "      <td>5723133</td>\n",
       "      <td>A</td>\n",
       "      <td>1</td>\n",
       "      <td>0.0</td>\n",
       "      <td>0</td>\n",
       "    </tr>\n",
       "    <tr>\n",
       "      <th>2</th>\n",
       "      <td>3276743</td>\n",
       "      <td>B</td>\n",
       "      <td>1</td>\n",
       "      <td>0.0</td>\n",
       "      <td>0</td>\n",
       "    </tr>\n",
       "    <tr>\n",
       "      <th>3</th>\n",
       "      <td>4238589</td>\n",
       "      <td>A</td>\n",
       "      <td>1</td>\n",
       "      <td>0.0</td>\n",
       "      <td>0</td>\n",
       "    </tr>\n",
       "    <tr>\n",
       "      <th>4</th>\n",
       "      <td>4475369</td>\n",
       "      <td>B</td>\n",
       "      <td>1</td>\n",
       "      <td>0.0</td>\n",
       "      <td>0</td>\n",
       "    </tr>\n",
       "  </tbody>\n",
       "</table>\n",
       "</div>"
      ],
      "text/plain": [
       "        id grp  visit_test  rev  payment\n",
       "0   581585   A           1  0.0        0\n",
       "1  5723133   A           1  0.0        0\n",
       "2  3276743   B           1  0.0        0\n",
       "3  4238589   A           1  0.0        0\n",
       "4  4475369   B           1  0.0        0"
      ]
     },
     "execution_count": 403,
     "metadata": {},
     "output_type": "execute_result"
    }
   ],
   "source": [
    "cr_df.payment = cr_df.payment.astype('int')\n",
    "cr_df.head()"
   ]
  },
  {
   "cell_type": "markdown",
   "metadata": {},
   "source": [
    "Чтобы проверить различия в конверсиях, используем хи2\n",
    "\n",
    "Для этого построим таблицу сопряженности"
   ]
  },
  {
   "cell_type": "code",
   "execution_count": 404,
   "metadata": {},
   "outputs": [],
   "source": [
    "A_pay = cr_df.query('grp == \"A\" and payment == 1').id.count()\n",
    "A_no_pay = cr_df.query('grp == \"A\" and payment == 0').id.count()\n",
    "B_pay = cr_df.query('grp == \"B\" and payment == 1').id.count()\n",
    "B_no_pay = cr_df.query('grp == \"B\" and payment == 0').id.count()"
   ]
  },
  {
   "cell_type": "code",
   "execution_count": 405,
   "metadata": {},
   "outputs": [
    {
     "data": {
      "text/html": [
       "<div>\n",
       "<style scoped>\n",
       "    .dataframe tbody tr th:only-of-type {\n",
       "        vertical-align: middle;\n",
       "    }\n",
       "\n",
       "    .dataframe tbody tr th {\n",
       "        vertical-align: top;\n",
       "    }\n",
       "\n",
       "    .dataframe thead th {\n",
       "        text-align: right;\n",
       "    }\n",
       "</style>\n",
       "<table border=\"1\" class=\"dataframe\">\n",
       "  <thead>\n",
       "    <tr style=\"text-align: right;\">\n",
       "      <th></th>\n",
       "      <th>payment</th>\n",
       "      <th>no_payment</th>\n",
       "    </tr>\n",
       "  </thead>\n",
       "  <tbody>\n",
       "    <tr>\n",
       "      <th>A</th>\n",
       "      <td>78</td>\n",
       "      <td>1460</td>\n",
       "    </tr>\n",
       "    <tr>\n",
       "      <th>B</th>\n",
       "      <td>314</td>\n",
       "      <td>6489</td>\n",
       "    </tr>\n",
       "  </tbody>\n",
       "</table>\n",
       "</div>"
      ],
      "text/plain": [
       "   payment  no_payment\n",
       "A       78        1460\n",
       "B      314        6489"
      ]
     },
     "execution_count": 405,
     "metadata": {},
     "output_type": "execute_result"
    }
   ],
   "source": [
    "# Построим таблицу сопряженности\n",
    "cr_matrix = pd.DataFrame({'payment':[A_pay, B_pay], 'no_payment':[A_no_pay, B_no_pay]})\n",
    "cr_matrix.index = ['A', 'B']\n",
    "cr_matrix"
   ]
  },
  {
   "cell_type": "code",
   "execution_count": 406,
   "metadata": {},
   "outputs": [
    {
     "name": "stdout",
     "output_type": "stream",
     "text": [
      "statistic: 0.48480826522557896\n",
      "p-value: 0.48625240457231045\n"
     ]
    }
   ],
   "source": [
    "cr_res = ss.chi2_contingency(cr_matrix)\n",
    "print(f'statistic: {cr_res[0]}')\n",
    "print(f'p-value: {cr_res[1]}')"
   ]
  },
  {
   "cell_type": "markdown",
   "metadata": {},
   "source": [
    "Т.к. p-value > 0.05, то принимаем нулевую гипотезу. То есть, что мы не имеем различия в конверсиях двух выборок"
   ]
  },
  {
   "cell_type": "markdown",
   "metadata": {},
   "source": [
    "Далее проверим метрику ARPU "
   ]
  },
  {
   "cell_type": "markdown",
   "metadata": {},
   "source": [
    "**Bootstrap**\n",
    "* **H0** - Различий в ARPU нет\n",
    "* **H1** - Различия в ARPU есть"
   ]
  },
  {
   "cell_type": "code",
   "execution_count": 407,
   "metadata": {},
   "outputs": [
    {
     "data": {
      "text/html": [
       "<div>\n",
       "<style scoped>\n",
       "    .dataframe tbody tr th:only-of-type {\n",
       "        vertical-align: middle;\n",
       "    }\n",
       "\n",
       "    .dataframe tbody tr th {\n",
       "        vertical-align: top;\n",
       "    }\n",
       "\n",
       "    .dataframe thead th {\n",
       "        text-align: right;\n",
       "    }\n",
       "</style>\n",
       "<table border=\"1\" class=\"dataframe\">\n",
       "  <thead>\n",
       "    <tr style=\"text-align: right;\">\n",
       "      <th></th>\n",
       "      <th>id</th>\n",
       "      <th>grp</th>\n",
       "      <th>visit_test</th>\n",
       "      <th>rev</th>\n",
       "      <th>payment</th>\n",
       "    </tr>\n",
       "  </thead>\n",
       "  <tbody>\n",
       "    <tr>\n",
       "      <th>0</th>\n",
       "      <td>581585</td>\n",
       "      <td>A</td>\n",
       "      <td>1</td>\n",
       "      <td>0.0</td>\n",
       "      <td>0</td>\n",
       "    </tr>\n",
       "    <tr>\n",
       "      <th>1</th>\n",
       "      <td>5723133</td>\n",
       "      <td>A</td>\n",
       "      <td>1</td>\n",
       "      <td>0.0</td>\n",
       "      <td>0</td>\n",
       "    </tr>\n",
       "    <tr>\n",
       "      <th>2</th>\n",
       "      <td>3276743</td>\n",
       "      <td>B</td>\n",
       "      <td>1</td>\n",
       "      <td>0.0</td>\n",
       "      <td>0</td>\n",
       "    </tr>\n",
       "    <tr>\n",
       "      <th>3</th>\n",
       "      <td>4238589</td>\n",
       "      <td>A</td>\n",
       "      <td>1</td>\n",
       "      <td>0.0</td>\n",
       "      <td>0</td>\n",
       "    </tr>\n",
       "    <tr>\n",
       "      <th>4</th>\n",
       "      <td>4475369</td>\n",
       "      <td>B</td>\n",
       "      <td>1</td>\n",
       "      <td>0.0</td>\n",
       "      <td>0</td>\n",
       "    </tr>\n",
       "  </tbody>\n",
       "</table>\n",
       "</div>"
      ],
      "text/plain": [
       "        id grp  visit_test  rev  payment\n",
       "0   581585   A           1  0.0        0\n",
       "1  5723133   A           1  0.0        0\n",
       "2  3276743   B           1  0.0        0\n",
       "3  4238589   A           1  0.0        0\n",
       "4  4475369   B           1  0.0        0"
      ]
     },
     "execution_count": 407,
     "metadata": {},
     "output_type": "execute_result"
    }
   ],
   "source": [
    "#ARPU\n",
    "ARPU_df = cr_df\n",
    "ARPU_df.head()"
   ]
  },
  {
   "cell_type": "code",
   "execution_count": 408,
   "metadata": {},
   "outputs": [],
   "source": [
    "ARPU_A = ARPU_df.query('grp == \"A\"').rev.sum()/ARPU_df.query('grp == \"A\"').id.nunique()\n",
    "ARPU_B = ARPU_df.query('grp == \"B\"').rev.sum()/ARPU_df.query('grp == \"B\"').id.nunique()"
   ]
  },
  {
   "cell_type": "code",
   "execution_count": 409,
   "metadata": {},
   "outputs": [
    {
     "name": "stdout",
     "output_type": "stream",
     "text": [
      "ARPU в группе А: 47.35\n",
      "ARPU в группе B: 58.06\n"
     ]
    }
   ],
   "source": [
    "print(f'ARPU в группе А: {ARPU_A.round(2)}')\n",
    "print(f'ARPU в группе B: {ARPU_B.round(2)}')"
   ]
  },
  {
   "cell_type": "code",
   "execution_count": 410,
   "metadata": {},
   "outputs": [
    {
     "data": {
      "application/vnd.jupyter.widget-view+json": {
       "model_id": "8a07f49840d34410b14ab07ab27ec688",
       "version_major": 2,
       "version_minor": 0
      },
      "text/plain": [
       "HBox(children=(FloatProgress(value=0.0, max=2000.0), HTML(value='')))"
      ]
     },
     "metadata": {},
     "output_type": "display_data"
    },
    {
     "name": "stdout",
     "output_type": "stream",
     "text": [
      "\n"
     ]
    },
    {
     "data": {
      "image/png": "[encoded data removed]",
      "text/plain": [
       "<Figure size 864x432 with 1 Axes>"
      ]
     },
     "metadata": {},
     "output_type": "display_data"
    }
   ],
   "source": [
    "bootstrap_test_ARPU = get_bootstrap(ARPU_df.query('grp == \"B\"').rev, ARPU_df.query('grp == \"A\"').rev)"
   ]
  },
  {
   "cell_type": "code",
   "execution_count": 411,
   "metadata": {},
   "outputs": [
    {
     "data": {
      "text/plain": [
       "0.04475894150933411"
      ]
     },
     "execution_count": 411,
     "metadata": {},
     "output_type": "execute_result"
    }
   ],
   "source": [
    "bootstrap_test_ARPU['p_value']"
   ]
  },
  {
   "cell_type": "code",
   "execution_count": 412,
   "metadata": {},
   "outputs": [
    {
     "data": {
      "text/html": [
       "<div>\n",
       "<style scoped>\n",
       "    .dataframe tbody tr th:only-of-type {\n",
       "        vertical-align: middle;\n",
       "    }\n",
       "\n",
       "    .dataframe tbody tr th {\n",
       "        vertical-align: top;\n",
       "    }\n",
       "\n",
       "    .dataframe thead th {\n",
       "        text-align: right;\n",
       "    }\n",
       "</style>\n",
       "<table border=\"1\" class=\"dataframe\">\n",
       "  <thead>\n",
       "    <tr style=\"text-align: right;\">\n",
       "      <th></th>\n",
       "      <th>0</th>\n",
       "    </tr>\n",
       "  </thead>\n",
       "  <tbody>\n",
       "    <tr>\n",
       "      <th>0.025</th>\n",
       "      <td>0.108306</td>\n",
       "    </tr>\n",
       "    <tr>\n",
       "      <th>0.975</th>\n",
       "      <td>20.820771</td>\n",
       "    </tr>\n",
       "  </tbody>\n",
       "</table>\n",
       "</div>"
      ],
      "text/plain": [
       "               0\n",
       "0.025   0.108306\n",
       "0.975  20.820771"
      ]
     },
     "execution_count": 412,
     "metadata": {},
     "output_type": "execute_result"
    }
   ],
   "source": [
    "bootstrap_test_ARPU['quants']"
   ]
  },
  {
   "cell_type": "markdown",
   "metadata": {},
   "source": [
    "Т.к. значение p-value сильно меньше граничного уровня значимости (0.05), то мы можем отклонить нулевую гипотезу и сделать вывод, что имеются статистически значимые различия в ARPU в группах."
   ]
  },
  {
   "cell_type": "markdown",
   "metadata": {},
   "source": [
    "### ВЫВОДЫ:\n",
    "\n",
    "* **Стоит ли запускать новую механику оплаты на всех пользователей?**\n",
    "\n",
    "Для сравнения и тестирования были проверены следующие метрики: CR в покупку, ARPPU и ARPU. \n",
    "\n",
    "При проверке конверсии с помощью метода Хи-квадрат результат не дал статзначимых различий, несмотря на то, что показатели конверсии в группе В меньше, чем в группе А. \n",
    "\n",
    "При сравнении в группах метрик ARPPU и ARPU был получен результат, показывающий статзначимые различия в контрольной и тестовой группах. В тестовой группе показатели оказались выше, чем в контрольной.\n",
    "\n",
    "Отвечая на поставленный вопрос: Новую механику оплаты можно запускать. Ожидается, что благодаря ей можно уввеличить средний доход."
   ]
  },
  {
   "cell_type": "markdown",
   "metadata": {},
   "source": [
    "## Задание 2. SQL\n",
    "### 2.1 Очень усердные ученики.\n",
    "\n",
    "#### 2.1.1 Условие\n",
    "\n",
    "Образовательные курсы состоят из различных уроков, каждый из которых состоит из нескольких маленьких заданий. Каждое такое маленькое задание называется \"горошиной\".\n",
    "\n",
    "Назовём очень усердным учеником того пользователя, который хотя бы раз за текущий месяц правильно решил 20 горошин.\n",
    "\n",
    "#### 2.1.2 Задача\n",
    "\n",
    "Дана таблица default.peas. Необходимо написать оптимальный запрос, который даст информацию о количестве очень усердных студентов.\n",
    "\n",
    "NB! Под усердным студентом мы понимаем студента, который правильно решил 20 задач за текущий месяц."
   ]
  },
  {
   "cell_type": "code",
   "execution_count": 413,
   "metadata": {},
   "outputs": [],
   "source": [
    "connection = {'host': 'https://clickhouse.lab.karpov.courses',\n",
    "              'database':'default',\n",
    "              'user':'student', \n",
    "              'password':'dpo_python_2020'}"
   ]
  },
  {
   "cell_type": "code",
   "execution_count": 414,
   "metadata": {},
   "outputs": [
    {
     "data": {
      "text/html": [
       "<div>\n",
       "<style scoped>\n",
       "    .dataframe tbody tr th:only-of-type {\n",
       "        vertical-align: middle;\n",
       "    }\n",
       "\n",
       "    .dataframe tbody tr th {\n",
       "        vertical-align: top;\n",
       "    }\n",
       "\n",
       "    .dataframe thead th {\n",
       "        text-align: right;\n",
       "    }\n",
       "</style>\n",
       "<table border=\"1\" class=\"dataframe\">\n",
       "  <thead>\n",
       "    <tr style=\"text-align: right;\">\n",
       "      <th></th>\n",
       "      <th>st_id</th>\n",
       "      <th>timest</th>\n",
       "      <th>correct</th>\n",
       "      <th>subject</th>\n",
       "    </tr>\n",
       "  </thead>\n",
       "  <tbody>\n",
       "    <tr>\n",
       "      <th>0</th>\n",
       "      <td>100379</td>\n",
       "      <td>2021-10-30</td>\n",
       "      <td>1</td>\n",
       "      <td>Theory of probability</td>\n",
       "    </tr>\n",
       "    <tr>\n",
       "      <th>1</th>\n",
       "      <td>100379</td>\n",
       "      <td>2021-10-30</td>\n",
       "      <td>0</td>\n",
       "      <td>Vizualization</td>\n",
       "    </tr>\n",
       "    <tr>\n",
       "      <th>2</th>\n",
       "      <td>100379</td>\n",
       "      <td>2021-10-30</td>\n",
       "      <td>1</td>\n",
       "      <td>Theory of probability</td>\n",
       "    </tr>\n",
       "    <tr>\n",
       "      <th>3</th>\n",
       "      <td>100379</td>\n",
       "      <td>2021-10-30</td>\n",
       "      <td>1</td>\n",
       "      <td>Vizualization</td>\n",
       "    </tr>\n",
       "    <tr>\n",
       "      <th>4</th>\n",
       "      <td>100379</td>\n",
       "      <td>2021-10-30</td>\n",
       "      <td>1</td>\n",
       "      <td>Theory of probability</td>\n",
       "    </tr>\n",
       "    <tr>\n",
       "      <th>5</th>\n",
       "      <td>100379</td>\n",
       "      <td>2021-10-30</td>\n",
       "      <td>1</td>\n",
       "      <td>Theory of probability</td>\n",
       "    </tr>\n",
       "    <tr>\n",
       "      <th>6</th>\n",
       "      <td>100379</td>\n",
       "      <td>2021-10-30</td>\n",
       "      <td>1</td>\n",
       "      <td>Vizualization</td>\n",
       "    </tr>\n",
       "    <tr>\n",
       "      <th>7</th>\n",
       "      <td>100379</td>\n",
       "      <td>2021-10-30</td>\n",
       "      <td>0</td>\n",
       "      <td>Theory of probability</td>\n",
       "    </tr>\n",
       "    <tr>\n",
       "      <th>8</th>\n",
       "      <td>100379</td>\n",
       "      <td>2021-10-30</td>\n",
       "      <td>1</td>\n",
       "      <td>Vizualization</td>\n",
       "    </tr>\n",
       "    <tr>\n",
       "      <th>9</th>\n",
       "      <td>100379</td>\n",
       "      <td>2021-10-30</td>\n",
       "      <td>1</td>\n",
       "      <td>Theory of probability</td>\n",
       "    </tr>\n",
       "  </tbody>\n",
       "</table>\n",
       "</div>"
      ],
      "text/plain": [
       "    st_id     timest  correct                subject\n",
       "0  100379 2021-10-30        1  Theory of probability\n",
       "1  100379 2021-10-30        0          Vizualization\n",
       "2  100379 2021-10-30        1  Theory of probability\n",
       "3  100379 2021-10-30        1          Vizualization\n",
       "4  100379 2021-10-30        1  Theory of probability\n",
       "5  100379 2021-10-30        1  Theory of probability\n",
       "6  100379 2021-10-30        1          Vizualization\n",
       "7  100379 2021-10-30        0  Theory of probability\n",
       "8  100379 2021-10-30        1          Vizualization\n",
       "9  100379 2021-10-30        1  Theory of probability"
      ]
     },
     "execution_count": 414,
     "metadata": {},
     "output_type": "execute_result"
    }
   ],
   "source": [
    "# Посмотрим содержимое таблицы peas\n",
    "query = \"\"\"\n",
    "SELECT\n",
    "    st_id,\n",
    "    toStartOfDay(timest) AS timest,\n",
    "    correct,\n",
    "    subject\n",
    "FROM default.peas\n",
    "LIMIT 10\n",
    "\"\"\"\n",
    "\n",
    "peas_df = ph.read_clickhouse(query, connection=connection)\n",
    "peas_df"
   ]
  },
  {
   "cell_type": "markdown",
   "metadata": {},
   "source": [
    "**Заметим, что в БД содержатся данные только за два дня**"
   ]
  },
  {
   "cell_type": "code",
   "execution_count": 415,
   "metadata": {},
   "outputs": [
    {
     "data": {
      "text/html": [
       "<div>\n",
       "<style scoped>\n",
       "    .dataframe tbody tr th:only-of-type {\n",
       "        vertical-align: middle;\n",
       "    }\n",
       "\n",
       "    .dataframe tbody tr th {\n",
       "        vertical-align: top;\n",
       "    }\n",
       "\n",
       "    .dataframe thead th {\n",
       "        text-align: right;\n",
       "    }\n",
       "</style>\n",
       "<table border=\"1\" class=\"dataframe\">\n",
       "  <thead>\n",
       "    <tr style=\"text-align: right;\">\n",
       "      <th></th>\n",
       "      <th>min_timest</th>\n",
       "      <th>max_timest</th>\n",
       "    </tr>\n",
       "  </thead>\n",
       "  <tbody>\n",
       "    <tr>\n",
       "      <th>0</th>\n",
       "      <td>2021-10-30</td>\n",
       "      <td>2021-10-31</td>\n",
       "    </tr>\n",
       "  </tbody>\n",
       "</table>\n",
       "</div>"
      ],
      "text/plain": [
       "  min_timest max_timest\n",
       "0 2021-10-30 2021-10-31"
      ]
     },
     "execution_count": 415,
     "metadata": {},
     "output_type": "execute_result"
    }
   ],
   "source": [
    "# Выведем минимальное и максимальное значение даты\n",
    "query = \"\"\"\n",
    "SELECT\n",
    "    MIN(toStartOfDay(timest)) AS min_timest,\n",
    "    MAX(toStartOfDay(timest)) AS max_timest\n",
    "FROM default.peas\n",
    "\"\"\"\n",
    "\n",
    "check_df = ph.read_clickhouse(query, connection=connection)\n",
    "check_df"
   ]
  },
  {
   "cell_type": "code",
   "execution_count": 416,
   "metadata": {},
   "outputs": [
    {
     "name": "stdout",
     "output_type": "stream",
     "text": [
      "Количество очень усердных учеников: 136\n"
     ]
    }
   ],
   "source": [
    "# Узнаем количество очень усердных учеников\n",
    "query = \"\"\"\n",
    "SELECT\n",
    "    COUNT(st_id) as diligent_studs\n",
    "FROM (\n",
    "        SELECT \n",
    "            st_id,\n",
    "            SUM(correct) as total_peas\n",
    "        FROM default.peas\n",
    "        GROUP BY st_id\n",
    "        HAVING total_peas >=20\n",
    "     )\n",
    "\"\"\"\n",
    "\n",
    "df_1 = ph.read_clickhouse(query, connection=connection)\n",
    "print(f'Количество очень усердных учеников: {df_1.diligent_studs[0]}')"
   ]
  },
  {
   "cell_type": "markdown",
   "metadata": {},
   "source": [
    "### 2.2 Оптимизация воронки\n",
    "\n",
    "#### 2.2.1 Условие\n",
    "\n",
    "Образовательная платформа предлагает пройти студентам курсы по модели trial: студент может решить бесплатно лишь 30 горошин в день. Для неограниченного количества заданий в определенной дисциплине студенту необходимо приобрести полный доступ. Команда провела эксперимент, где был протестирован новый экран оплаты.\n",
    "\n",
    "#### 2.2.2 Задача\n",
    "\n",
    "Дана таблицы: default.peas, default.studs и default.final_project_check. \n",
    "\n",
    "Необходимо в одном запросе выгрузить следующую информацию о группах пользователей:\n",
    "\n",
    "* ARPU \n",
    "* ARPAU \n",
    "* CR в покупку \n",
    "* СR активного пользователя в покупку \n",
    "* CR пользователя из активности по математике (subject = ’math’) в покупку курса по математике\n",
    "\n",
    "ARPU считается относительно всех пользователей, попавших в группы.\n",
    "\n",
    "Активным считается пользователь, за все время решивший больше 10 задач правильно в любых дисциплинах.\n",
    "\n",
    "Активным по математике считается пользователь, за все время решивший 2 или больше задач правильно по математике."
   ]
  },
  {
   "cell_type": "code",
   "execution_count": 417,
   "metadata": {},
   "outputs": [
    {
     "data": {
      "text/html": [
       "<div>\n",
       "<style scoped>\n",
       "    .dataframe tbody tr th:only-of-type {\n",
       "        vertical-align: middle;\n",
       "    }\n",
       "\n",
       "    .dataframe tbody tr th {\n",
       "        vertical-align: top;\n",
       "    }\n",
       "\n",
       "    .dataframe thead th {\n",
       "        text-align: right;\n",
       "    }\n",
       "</style>\n",
       "<table border=\"1\" class=\"dataframe\">\n",
       "  <thead>\n",
       "    <tr style=\"text-align: right;\">\n",
       "      <th></th>\n",
       "      <th>st_id</th>\n",
       "      <th>test_grp</th>\n",
       "    </tr>\n",
       "  </thead>\n",
       "  <tbody>\n",
       "    <tr>\n",
       "      <th>0</th>\n",
       "      <td>100379</td>\n",
       "      <td>pilot</td>\n",
       "    </tr>\n",
       "    <tr>\n",
       "      <th>1</th>\n",
       "      <td>101432</td>\n",
       "      <td>control</td>\n",
       "    </tr>\n",
       "    <tr>\n",
       "      <th>2</th>\n",
       "      <td>104818</td>\n",
       "      <td>pilot</td>\n",
       "    </tr>\n",
       "    <tr>\n",
       "      <th>3</th>\n",
       "      <td>104885</td>\n",
       "      <td>pilot</td>\n",
       "    </tr>\n",
       "    <tr>\n",
       "      <th>4</th>\n",
       "      <td>104966</td>\n",
       "      <td>pilot</td>\n",
       "    </tr>\n",
       "    <tr>\n",
       "      <th>5</th>\n",
       "      <td>106010</td>\n",
       "      <td>pilot</td>\n",
       "    </tr>\n",
       "    <tr>\n",
       "      <th>6</th>\n",
       "      <td>106028</td>\n",
       "      <td>pilot</td>\n",
       "    </tr>\n",
       "    <tr>\n",
       "      <th>7</th>\n",
       "      <td>106464</td>\n",
       "      <td>pilot</td>\n",
       "    </tr>\n",
       "    <tr>\n",
       "      <th>8</th>\n",
       "      <td>106816</td>\n",
       "      <td>control</td>\n",
       "    </tr>\n",
       "    <tr>\n",
       "      <th>9</th>\n",
       "      <td>107250</td>\n",
       "      <td>control</td>\n",
       "    </tr>\n",
       "  </tbody>\n",
       "</table>\n",
       "</div>"
      ],
      "text/plain": [
       "    st_id test_grp\n",
       "0  100379    pilot\n",
       "1  101432  control\n",
       "2  104818    pilot\n",
       "3  104885    pilot\n",
       "4  104966    pilot\n",
       "5  106010    pilot\n",
       "6  106028    pilot\n",
       "7  106464    pilot\n",
       "8  106816  control\n",
       "9  107250  control"
      ]
     },
     "execution_count": 417,
     "metadata": {},
     "output_type": "execute_result"
    }
   ],
   "source": [
    "# Посмотрим содержимое таблицы studs\n",
    "query = \"\"\"\n",
    "    SELECT *\n",
    "    FROM default.studs\n",
    "    LIMIT 10\n",
    "\"\"\"\n",
    "\n",
    "studs_df = ph.read_clickhouse(query, connection = connection)\n",
    "studs_df"
   ]
  },
  {
   "cell_type": "code",
   "execution_count": 418,
   "metadata": {},
   "outputs": [
    {
     "data": {
      "text/html": [
       "<div>\n",
       "<style scoped>\n",
       "    .dataframe tbody tr th:only-of-type {\n",
       "        vertical-align: middle;\n",
       "    }\n",
       "\n",
       "    .dataframe tbody tr th {\n",
       "        vertical-align: top;\n",
       "    }\n",
       "\n",
       "    .dataframe thead th {\n",
       "        text-align: right;\n",
       "    }\n",
       "</style>\n",
       "<table border=\"1\" class=\"dataframe\">\n",
       "  <thead>\n",
       "    <tr style=\"text-align: right;\">\n",
       "      <th></th>\n",
       "      <th>st_id</th>\n",
       "      <th>sale_time</th>\n",
       "      <th>money</th>\n",
       "      <th>subject</th>\n",
       "    </tr>\n",
       "  </thead>\n",
       "  <tbody>\n",
       "    <tr>\n",
       "      <th>0</th>\n",
       "      <td>101432</td>\n",
       "      <td>2021-10-31</td>\n",
       "      <td>85000</td>\n",
       "      <td>Math</td>\n",
       "    </tr>\n",
       "    <tr>\n",
       "      <th>1</th>\n",
       "      <td>101432</td>\n",
       "      <td>2021-10-31</td>\n",
       "      <td>65000</td>\n",
       "      <td>Vizualization</td>\n",
       "    </tr>\n",
       "    <tr>\n",
       "      <th>2</th>\n",
       "      <td>104885</td>\n",
       "      <td>2021-10-30</td>\n",
       "      <td>65000</td>\n",
       "      <td>Vizualization</td>\n",
       "    </tr>\n",
       "    <tr>\n",
       "      <th>3</th>\n",
       "      <td>104885</td>\n",
       "      <td>2021-10-30</td>\n",
       "      <td>75000</td>\n",
       "      <td>Statistics</td>\n",
       "    </tr>\n",
       "    <tr>\n",
       "      <th>4</th>\n",
       "      <td>106464</td>\n",
       "      <td>2021-10-31</td>\n",
       "      <td>85000</td>\n",
       "      <td>Math</td>\n",
       "    </tr>\n",
       "    <tr>\n",
       "      <th>5</th>\n",
       "      <td>114606</td>\n",
       "      <td>2021-10-31</td>\n",
       "      <td>75000</td>\n",
       "      <td>Statistics</td>\n",
       "    </tr>\n",
       "    <tr>\n",
       "      <th>6</th>\n",
       "      <td>147316</td>\n",
       "      <td>2021-10-31</td>\n",
       "      <td>65000</td>\n",
       "      <td>Vizualization</td>\n",
       "    </tr>\n",
       "    <tr>\n",
       "      <th>7</th>\n",
       "      <td>149640</td>\n",
       "      <td>2021-10-30</td>\n",
       "      <td>65000</td>\n",
       "      <td>Vizualization</td>\n",
       "    </tr>\n",
       "    <tr>\n",
       "      <th>8</th>\n",
       "      <td>230858</td>\n",
       "      <td>2021-10-31</td>\n",
       "      <td>85000</td>\n",
       "      <td>Math</td>\n",
       "    </tr>\n",
       "    <tr>\n",
       "      <th>9</th>\n",
       "      <td>269738</td>\n",
       "      <td>2021-10-30</td>\n",
       "      <td>70000</td>\n",
       "      <td>Theory of probability</td>\n",
       "    </tr>\n",
       "  </tbody>\n",
       "</table>\n",
       "</div>"
      ],
      "text/plain": [
       "    st_id  sale_time  money                subject\n",
       "0  101432 2021-10-31  85000                   Math\n",
       "1  101432 2021-10-31  65000          Vizualization\n",
       "2  104885 2021-10-30  65000          Vizualization\n",
       "3  104885 2021-10-30  75000             Statistics\n",
       "4  106464 2021-10-31  85000                   Math\n",
       "5  114606 2021-10-31  75000             Statistics\n",
       "6  147316 2021-10-31  65000          Vizualization\n",
       "7  149640 2021-10-30  65000          Vizualization\n",
       "8  230858 2021-10-31  85000                   Math\n",
       "9  269738 2021-10-30  70000  Theory of probability"
      ]
     },
     "execution_count": 418,
     "metadata": {},
     "output_type": "execute_result"
    }
   ],
   "source": [
    "# Посмотрим содержимое таблицы final_project_check\n",
    "query = \"\"\"\n",
    "    SELECT\n",
    "        st_id,\n",
    "        toStartOfDay(sale_time) AS sale_time,\n",
    "        money,\n",
    "        subject\n",
    "    FROM default.final_project_check\n",
    "    LIMIT 10\n",
    "\"\"\"\n",
    "\n",
    "studs_df = ph.read_clickhouse(query, connection = connection)\n",
    "studs_df"
   ]
  },
  {
   "cell_type": "markdown",
   "metadata": {},
   "source": [
    "Для решения данной задачи составим несколько подзапросов, чтобы упростить дальнейший расчет интересующих метрик"
   ]
  },
  {
   "cell_type": "code",
   "execution_count": 419,
   "metadata": {},
   "outputs": [
    {
     "data": {
      "text/html": [
       "<div>\n",
       "<style scoped>\n",
       "    .dataframe tbody tr th:only-of-type {\n",
       "        vertical-align: middle;\n",
       "    }\n",
       "\n",
       "    .dataframe tbody tr th {\n",
       "        vertical-align: top;\n",
       "    }\n",
       "\n",
       "    .dataframe thead th {\n",
       "        text-align: right;\n",
       "    }\n",
       "</style>\n",
       "<table border=\"1\" class=\"dataframe\">\n",
       "  <thead>\n",
       "    <tr style=\"text-align: right;\">\n",
       "      <th></th>\n",
       "      <th>test_grp</th>\n",
       "      <th>ARPU</th>\n",
       "      <th>ARPAU</th>\n",
       "      <th>CR_to_buy</th>\n",
       "      <th>CR_act_stud_to_buy</th>\n",
       "      <th>CR_math</th>\n",
       "    </tr>\n",
       "  </thead>\n",
       "  <tbody>\n",
       "    <tr>\n",
       "      <th>0</th>\n",
       "      <td>control</td>\n",
       "      <td>4540.983607</td>\n",
       "      <td>10905.511811</td>\n",
       "      <td>4.590164</td>\n",
       "      <td>11.023622</td>\n",
       "      <td>6.122449</td>\n",
       "    </tr>\n",
       "    <tr>\n",
       "      <th>1</th>\n",
       "      <td>pilot</td>\n",
       "      <td>11508.474576</td>\n",
       "      <td>35364.583333</td>\n",
       "      <td>8.474576</td>\n",
       "      <td>26.041667</td>\n",
       "      <td>9.523810</td>\n",
       "    </tr>\n",
       "  </tbody>\n",
       "</table>\n",
       "</div>"
      ],
      "text/plain": [
       "  test_grp          ARPU         ARPAU  CR_to_buy  CR_act_stud_to_buy  \\\n",
       "0  control   4540.983607  10905.511811   4.590164           11.023622   \n",
       "1    pilot  11508.474576  35364.583333   8.474576           26.041667   \n",
       "\n",
       "    CR_math  \n",
       "0  6.122449  \n",
       "1  9.523810  "
      ]
     },
     "execution_count": 419,
     "metadata": {},
     "output_type": "execute_result"
    }
   ],
   "source": [
    "query = \"\"\"\n",
    "WITH studs_by_grp AS\n",
    "    (\n",
    "    SELECT \n",
    "        test_grp,\n",
    "        uniqExact(st_id) AS studs_count\n",
    "    FROM default.studs\n",
    "    GROUP BY test_grp\n",
    "    ), -- кол-во учеников в каждой из групп\n",
    "    \n",
    "     total_money AS\n",
    "    (\n",
    "    SELECT\n",
    "        a.test_grp AS test_grp,\n",
    "        SUM(b.money) AS tot_money\n",
    "    FROM default.studs AS a\n",
    "    INNER JOIN default.final_project_check AS b\n",
    "    USING st_id\n",
    "    GROUP BY test_grp\n",
    "    ), -- общий доход с покупок учеников\n",
    "    \n",
    "    active_studs AS\n",
    "    (\n",
    "    SELECT\n",
    "        test_grp,\n",
    "        uniqExact(st_id) AS act_studs\n",
    "    FROM \n",
    "        (\n",
    "        SELECT\n",
    "            a.st_id AS st_id,\n",
    "            b.test_grp AS test_grp\n",
    "        FROM default.peas AS a\n",
    "        INNER JOIN default.studs AS b\n",
    "        USING st_id\n",
    "        GROUP BY test_grp, st_id\n",
    "        HAVING SUM(correct) > 10\n",
    "        )\n",
    "    GROUP BY test_grp\n",
    "    ), -- кол-во активных учеников\n",
    "    \n",
    "    math_active_studs AS\n",
    "    (\n",
    "    SELECT\n",
    "        test_grp,\n",
    "        uniqExact(st_id) AS math_act_studs\n",
    "    FROM \n",
    "        (\n",
    "        SELECT\n",
    "            a.st_id AS st_id,\n",
    "            b.test_grp AS test_grp\n",
    "        FROM default.peas AS a\n",
    "        INNER JOIN default.studs AS b\n",
    "        USING st_id\n",
    "        WHERE subject = 'Math'\n",
    "        GROUP BY test_grp, st_id\n",
    "        HAVING SUM(correct) >= 2\n",
    "        )\n",
    "    GROUP BY test_grp\n",
    "    ), -- кол-во активных учеников по математике\n",
    "     \n",
    "    paying_studs AS\n",
    "    (\n",
    "    SELECT\n",
    "        a.test_grp AS test_grp,\n",
    "        uniqExact(st_id) AS pay_studs\n",
    "    FROM default.studs AS a\n",
    "    INNER JOIN default.final_project_check AS b\n",
    "    USING st_id\n",
    "    GROUP BY test_grp\n",
    "    ), -- кол-во учеников, совершивших покупку\n",
    "    \n",
    "    active_paying_studs AS\n",
    "    (\n",
    "    SELECT\n",
    "        test_grp,\n",
    "        uniqExact(st_id) AS act_pay_studs\n",
    "    FROM \n",
    "        (\n",
    "        SELECT \n",
    "            a.test_grp AS test_grp,\n",
    "            a.st_id AS st_id\n",
    "        FROM (\n",
    "            SELECT\n",
    "                a.st_id AS st_id,\n",
    "                b.test_grp AS test_grp\n",
    "            FROM default.peas AS a\n",
    "            LEFT JOIN default.studs AS b\n",
    "            USING st_id\n",
    "            GROUP BY test_grp, st_id\n",
    "            HAVING SUM(a.correct) > 10\n",
    "            ) AS a\n",
    "        INNER JOIN default.final_project_check AS b\n",
    "        USING (st_id)\n",
    "        )\n",
    "    GROUP BY test_grp\n",
    "    ), -- кол-во активных студентов, совершивших покупку\n",
    "    \n",
    "    math_active_paying_studs AS\n",
    "    (\n",
    "    SELECT\n",
    "        test_grp,\n",
    "        uniqExact(st_id) AS math_act_pay_studs\n",
    "    FROM \n",
    "        (\n",
    "        SELECT\n",
    "            a.test_grp AS test_grp,\n",
    "            a.st_id AS st_id\n",
    "        FROM\n",
    "            (\n",
    "            SELECT\n",
    "                a.st_id AS st_id,\n",
    "                b.test_grp AS test_grp\n",
    "            FROM default.peas AS a\n",
    "            INNER JOIN default.studs AS b\n",
    "            USING st_id\n",
    "            WHERE subject = 'Math'\n",
    "            GROUP BY test_grp, st_id\n",
    "            HAVING SUM(correct) >= 2\n",
    "            ) AS a\n",
    "        INNER JOIN default.final_project_check AS b\n",
    "        USING st_id\n",
    "        WHERE b.subject = 'Math'\n",
    "        GROUP BY test_grp, st_id\n",
    "        )\n",
    "    GROUP BY test_grp\n",
    "    ) -- кол-во активных студентов по математике, совершивших покупку\n",
    "    \n",
    "SELECT\n",
    "    a.test_grp AS test_grp,\n",
    "    b.tot_money/a.studs_count AS ARPU,\n",
    "    b.tot_money/c.act_studs AS ARPAU,\n",
    "    d.act_pay_studs/a.studs_count * 100 AS CR_to_buy, -- конверсия в покупку\n",
    "    d.act_pay_studs/c.act_studs * 100 AS CR_act_stud_to_buy, -- конверсия активного пользователя в покупку \n",
    "    e.math_act_pay_studs/ f.math_act_studs * 100 AS CR_math -- пользователя из активности по математике в покупку курса по математике\n",
    "FROM studs_by_grp AS a\n",
    "    LEFT JOIN total_money AS b\n",
    "        ON a.test_grp = b.test_grp\n",
    "    LEFT JOIN active_studs AS c\n",
    "        ON a.test_grp = c.test_grp\n",
    "    LEFT JOIN active_paying_studs AS d\n",
    "        ON a.test_grp = d.test_grp\n",
    "    LEFT JOIN math_active_paying_studs AS e\n",
    "        ON a.test_grp = e.test_grp\n",
    "    LEFT JOIN math_active_studs AS f\n",
    "        ON a.test_grp = f.test_grp\n",
    "\"\"\"\n",
    "\n",
    "df_2 = ph.read_clickhouse(query, connection=connection)\n",
    "df_2"
   ]
  },
  {
   "cell_type": "markdown",
   "metadata": {},
   "source": [
    "## Задание 3. Python\n",
    "### 3.1 Задача\n",
    "\n",
    "1. Реализуйте функцию, которая будет автоматически подгружать информацию из дополнительного файла groups_add.csv (заголовки могут отличаться) и на основании дополнительных параметров пересчитывать метрики.\n",
    "2. Реализуйте функцию, которая будет строить графики по получаемым метрикам."
   ]
  },
  {
   "cell_type": "code",
   "execution_count": 420,
   "metadata": {},
   "outputs": [],
   "source": [
    "# Реализация функции\n",
    "def update_data(group_df, checks_df, active_studs_df, data_add_file):\n",
    "    data_add = pd.read_csv(data_add_file, sep = ',', header = 0, names = ['id', 'grp'])\n",
    "    \n",
    "    df_united = pd.concat([group_df, data_add], ignore_index = True)\n",
    "    df_united = df_united.merge(active_studs_df, left_on = 'id', right_on = 'student_id', how = 'right')\n",
    "    df_united = df_united.drop('student_id', axis = 1)\n",
    "    checks_df['payment'] = 1\n",
    "    df_united = df_united.merge(checks_df, left_on = 'id', right_on = 'student_id', how = 'left')\n",
    "    df_united = df_united.drop('student_id', axis = 1).fillna(0)\n",
    "    df_united.payment = df_united.payment.astype('int')\n",
    "    \n",
    "    #CR\n",
    "    a_pay = df_united.query('grp == \"A\" and payment == 1').id.count()\n",
    "    a_total = df_united.query('grp == \"A\"').id.count()\n",
    "    b_pay = df_united.query('grp == \"B\" and payment == 1').id.count()\n",
    "    b_total = df_united.query('grp == \"B\"').id.count()\n",
    "    \n",
    "    cr_a = round(a_pay / a_total * 100, 2)\n",
    "    cr_b = round(b_pay / b_total * 100, 2)\n",
    "    \n",
    "    #ARPU\n",
    "    arpu_a = (df_united.query('grp == \"A\"').rev.sum() / df_united.query('grp == \"A\"').id.nunique()).round(2)\n",
    "    arpu_b = (df_united.query('grp == \"B\"').rev.sum() / df_united.query('grp == \"B\"').id.nunique()).round(2)\n",
    "    \n",
    "    #ARPPU\n",
    "    arppu_a = (df_united.query('grp == \"A\"').rev.sum() / df_united.query('grp == \"A\" and payment == 1').id.nunique()).round(2)\n",
    "    arppu_b = (df_united.query('grp == \"B\"').rev.sum() / df_united.query('grp == \"B\" and payment == 1').id.nunique()).round(2)\n",
    "    \n",
    "    print(f'Конверсия в покупку для контрольной группы (А): {cr_a} %')\n",
    "    print(f'Конверсия в покупку для тестовой группы (В): {cr_b} % \\n')\n",
    "    \n",
    "    print(f'ARPU для контрольной группы (А): {arpu_a.round(2)}')\n",
    "    print(f'ARPU для тестовой группы (В): {arpu_b.round(2)} \\n')\n",
    "    \n",
    "    print(f'ARPPU для контрольной группы (А): {arppu_a.round(2)}')\n",
    "    print(f'ARPPU для тестовой группы (В): {arppu_b.round(2)} \\n')\n",
    "    \n",
    "    visualisation = pd.DataFrame({'Groups': [\"A\", \"B\"],\n",
    "                                  'CR': [cr_a, cr_b],\n",
    "                                  'ARPU': [arpu_a, arpu_b],\n",
    "                                  'ARPPU': [arppu_a, arppu_b]})\n",
    "    \n",
    "    fig, axs = plt.subplots(1, 3, figsize = (17, 7))\n",
    "    \n",
    "    ax1 = sns.barplot(ax = axs[0], data = visualisation, x = 'Groups', y = 'CR', color = 'deepskyblue')\n",
    "    ax1.set(xlabel = 'Группа', ylabel = 'Конверсия в покупку')\n",
    "    ax2 = sns.barplot(ax = axs[1], data = visualisation, x = 'Groups', y = 'ARPU', color = 'deepskyblue')\n",
    "    ax2.set(xlabel = 'Группа', ylabel = 'ARPU')\n",
    "    ax3 = sns.barplot(ax = axs[2], data = visualisation, x = 'Groups', y = 'ARPPU', color = 'deepskyblue')\n",
    "    ax3.set(xlabel = 'Группа', ylabel = 'ARPPU')\n",
    "    sns.despine()\n",
    "    \n",
    "    return visualisation"
   ]
  },
  {
   "cell_type": "code",
   "execution_count": 421,
   "metadata": {},
   "outputs": [
    {
     "name": "stdout",
     "output_type": "stream",
     "text": [
      "Конверсия в покупку для контрольной группы (А): 5.07 %\n",
      "Конверсия в покупку для тестовой группы (В): 4.62 % \n",
      "\n",
      "ARPU для контрольной группы (А): 47.35\n",
      "ARPU для тестовой группы (В): 58.06 \n",
      "\n",
      "ARPPU для контрольной группы (А): 933.59\n",
      "ARPPU для тестовой группы (В): 1257.88 \n",
      "\n"
     ]
    },
    {
     "data": {
      "text/html": [
       "<div>\n",
       "<style scoped>\n",
       "    .dataframe tbody tr th:only-of-type {\n",
       "        vertical-align: middle;\n",
       "    }\n",
       "\n",
       "    .dataframe tbody tr th {\n",
       "        vertical-align: top;\n",
       "    }\n",
       "\n",
       "    .dataframe thead th {\n",
       "        text-align: right;\n",
       "    }\n",
       "</style>\n",
       "<table border=\"1\" class=\"dataframe\">\n",
       "  <thead>\n",
       "    <tr style=\"text-align: right;\">\n",
       "      <th></th>\n",
       "      <th>Groups</th>\n",
       "      <th>CR</th>\n",
       "      <th>ARPU</th>\n",
       "      <th>ARPPU</th>\n",
       "    </tr>\n",
       "  </thead>\n",
       "  <tbody>\n",
       "    <tr>\n",
       "      <th>0</th>\n",
       "      <td>A</td>\n",
       "      <td>5.07</td>\n",
       "      <td>47.35</td>\n",
       "      <td>933.59</td>\n",
       "    </tr>\n",
       "    <tr>\n",
       "      <th>1</th>\n",
       "      <td>B</td>\n",
       "      <td>4.62</td>\n",
       "      <td>58.06</td>\n",
       "      <td>1257.88</td>\n",
       "    </tr>\n",
       "  </tbody>\n",
       "</table>\n",
       "</div>"
      ],
      "text/plain": [
       "  Groups    CR   ARPU    ARPPU\n",
       "0      A  5.07  47.35   933.59\n",
       "1      B  4.62  58.06  1257.88"
      ]
     },
     "execution_count": 421,
     "metadata": {},
     "output_type": "execute_result"
    },
    {
     "data": {
      "image/png": "[encoded data removed]",
      "text/plain": [
       "<Figure size 1224x504 with 3 Axes>"
      ]
     },
     "metadata": {},
     "output_type": "display_data"
    }
   ],
   "source": [
    "# Применим реализованную функцию\n",
    "update_data(groups, checks, active_studs, download_url_2)"
   ]
  }
 ],
 "metadata": {
  "kernelspec": {
   "display_name": "Python 3",
   "language": "python",
   "name": "python3"
  },
  "language_info": {
   "codemirror_mode": {
    "name": "ipython",
    "version": 3
   },
   "file_extension": ".py",
   "mimetype": "text/x-python",
   "name": "python",
   "nbconvert_exporter": "python",
   "pygments_lexer": "ipython3",
   "version": "3.7.3"
  }
 },
 "nbformat": 4,
 "nbformat_minor": 5
}
